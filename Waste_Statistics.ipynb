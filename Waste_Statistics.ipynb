{
  "nbformat": 4,
  "nbformat_minor": 0,
  "metadata": {
    "kernelspec": {
      "display_name": "Python 3",
      "language": "python",
      "name": "python3"
    },
    "language_info": {
      "codemirror_mode": {
        "name": "ipython",
        "version": 3
      },
      "file_extension": ".py",
      "mimetype": "text/x-python",
      "name": "python",
      "nbconvert_exporter": "python",
      "pygments_lexer": "ipython3",
      "version": "3.7.6"
    },
    "colab": {
      "provenance": [],
      "include_colab_link": true
    }
  },
  "cells": [
    {
      "cell_type": "markdown",
      "metadata": {
        "id": "view-in-github",
        "colab_type": "text"
      },
      "source": [
        "<a href=\"https://colab.research.google.com/github/aweier/aweier/blob/main/Waste_Statistics.ipynb\" target=\"_parent\"><img src=\"https://colab.research.google.com/assets/colab-badge.svg\" alt=\"Open In Colab\"/></a>"
      ]
    },
    {
      "cell_type": "markdown",
      "metadata": {
        "id": "RD-a_c8YbX9f"
      },
      "source": [
        "### Import the neccessary Python libraries and the excel file you will be using:"
      ]
    },
    {
      "cell_type": "code",
      "metadata": {
        "id": "7PjEnjGQbX93"
      },
      "source": [
        "import pandas as pd\n",
        "import numpy as np\n",
        "import scipy.stats as stats"
      ],
      "execution_count": 2,
      "outputs": []
    },
    {
      "cell_type": "code",
      "metadata": {
        "id": "pAjJvwIwbX97"
      },
      "source": [
        "%matplotlib inline\n",
        "# your resulting graphs from matplotlib will be stored inline in the notebook"
      ],
      "execution_count": 3,
      "outputs": []
    },
    {
      "cell_type": "code",
      "metadata": {
        "id": "izB0Tct-bX99",
        "outputId": "0a26c33e-843a-4be5-81ed-1d81fa886186",
        "colab": {
          "base_uri": "https://localhost:8080/",
          "height": 356
        }
      },
      "source": [
        "df = pd.read_excel(r'C:\\Users\\ggilpat\\Documents\\Carpet Waste Calculation 12-4.xlsx', sheet_name = 'Outputs')\n",
        "df\n",
        "# Replace the file with the relevant, most updated waste excel file.\n",
        "# I created the 'Outputs' tab in the excel so that I only load in the columns I want"
      ],
      "execution_count": 4,
      "outputs": [
        {
          "output_type": "error",
          "ename": "FileNotFoundError",
          "evalue": "[Errno 2] No such file or directory: 'C:\\\\Users\\\\ggilpat\\\\Documents\\\\Carpet Waste Calculation 12-4.xlsx'",
          "traceback": [
            "\u001b[0;31m---------------------------------------------------------------------------\u001b[0m",
            "\u001b[0;31mFileNotFoundError\u001b[0m                         Traceback (most recent call last)",
            "\u001b[0;32m<ipython-input-4-2871781fdc83>\u001b[0m in \u001b[0;36m<cell line: 1>\u001b[0;34m()\u001b[0m\n\u001b[0;32m----> 1\u001b[0;31m \u001b[0mdf\u001b[0m \u001b[0;34m=\u001b[0m \u001b[0mpd\u001b[0m\u001b[0;34m.\u001b[0m\u001b[0mread_excel\u001b[0m\u001b[0;34m(\u001b[0m\u001b[0;34mr'C:\\Users\\ggilpat\\Documents\\Carpet Waste Calculation 12-4.xlsx'\u001b[0m\u001b[0;34m,\u001b[0m \u001b[0msheet_name\u001b[0m \u001b[0;34m=\u001b[0m \u001b[0;34m'Outputs'\u001b[0m\u001b[0;34m)\u001b[0m\u001b[0;34m\u001b[0m\u001b[0;34m\u001b[0m\u001b[0m\n\u001b[0m\u001b[1;32m      2\u001b[0m \u001b[0mdf\u001b[0m\u001b[0;34m\u001b[0m\u001b[0;34m\u001b[0m\u001b[0m\n\u001b[1;32m      3\u001b[0m \u001b[0;31m# Replace the file with the relevant, most updated waste excel file.\u001b[0m\u001b[0;34m\u001b[0m\u001b[0;34m\u001b[0m\u001b[0m\n\u001b[1;32m      4\u001b[0m \u001b[0;31m# I created the 'Outputs' tab in the excel so that I only load in the columns I want\u001b[0m\u001b[0;34m\u001b[0m\u001b[0;34m\u001b[0m\u001b[0m\n",
            "\u001b[0;32m/usr/local/lib/python3.10/dist-packages/pandas/io/excel/_base.py\u001b[0m in \u001b[0;36mread_excel\u001b[0;34m(io, sheet_name, header, names, index_col, usecols, dtype, engine, converters, true_values, false_values, skiprows, nrows, na_values, keep_default_na, na_filter, verbose, parse_dates, date_parser, date_format, thousands, decimal, comment, skipfooter, storage_options, dtype_backend)\u001b[0m\n\u001b[1;32m    476\u001b[0m     \u001b[0;32mif\u001b[0m \u001b[0;32mnot\u001b[0m \u001b[0misinstance\u001b[0m\u001b[0;34m(\u001b[0m\u001b[0mio\u001b[0m\u001b[0;34m,\u001b[0m \u001b[0mExcelFile\u001b[0m\u001b[0;34m)\u001b[0m\u001b[0;34m:\u001b[0m\u001b[0;34m\u001b[0m\u001b[0;34m\u001b[0m\u001b[0m\n\u001b[1;32m    477\u001b[0m         \u001b[0mshould_close\u001b[0m \u001b[0;34m=\u001b[0m \u001b[0;32mTrue\u001b[0m\u001b[0;34m\u001b[0m\u001b[0;34m\u001b[0m\u001b[0m\n\u001b[0;32m--> 478\u001b[0;31m         \u001b[0mio\u001b[0m \u001b[0;34m=\u001b[0m \u001b[0mExcelFile\u001b[0m\u001b[0;34m(\u001b[0m\u001b[0mio\u001b[0m\u001b[0;34m,\u001b[0m \u001b[0mstorage_options\u001b[0m\u001b[0;34m=\u001b[0m\u001b[0mstorage_options\u001b[0m\u001b[0;34m,\u001b[0m \u001b[0mengine\u001b[0m\u001b[0;34m=\u001b[0m\u001b[0mengine\u001b[0m\u001b[0;34m)\u001b[0m\u001b[0;34m\u001b[0m\u001b[0;34m\u001b[0m\u001b[0m\n\u001b[0m\u001b[1;32m    479\u001b[0m     \u001b[0;32melif\u001b[0m \u001b[0mengine\u001b[0m \u001b[0;32mand\u001b[0m \u001b[0mengine\u001b[0m \u001b[0;34m!=\u001b[0m \u001b[0mio\u001b[0m\u001b[0;34m.\u001b[0m\u001b[0mengine\u001b[0m\u001b[0;34m:\u001b[0m\u001b[0;34m\u001b[0m\u001b[0;34m\u001b[0m\u001b[0m\n\u001b[1;32m    480\u001b[0m         raise ValueError(\n",
            "\u001b[0;32m/usr/local/lib/python3.10/dist-packages/pandas/io/excel/_base.py\u001b[0m in \u001b[0;36m__init__\u001b[0;34m(self, path_or_buffer, engine, storage_options)\u001b[0m\n\u001b[1;32m   1494\u001b[0m                 \u001b[0mext\u001b[0m \u001b[0;34m=\u001b[0m \u001b[0;34m\"xls\"\u001b[0m\u001b[0;34m\u001b[0m\u001b[0;34m\u001b[0m\u001b[0m\n\u001b[1;32m   1495\u001b[0m             \u001b[0;32melse\u001b[0m\u001b[0;34m:\u001b[0m\u001b[0;34m\u001b[0m\u001b[0;34m\u001b[0m\u001b[0m\n\u001b[0;32m-> 1496\u001b[0;31m                 ext = inspect_excel_format(\n\u001b[0m\u001b[1;32m   1497\u001b[0m                     \u001b[0mcontent_or_path\u001b[0m\u001b[0;34m=\u001b[0m\u001b[0mpath_or_buffer\u001b[0m\u001b[0;34m,\u001b[0m \u001b[0mstorage_options\u001b[0m\u001b[0;34m=\u001b[0m\u001b[0mstorage_options\u001b[0m\u001b[0;34m\u001b[0m\u001b[0;34m\u001b[0m\u001b[0m\n\u001b[1;32m   1498\u001b[0m                 )\n",
            "\u001b[0;32m/usr/local/lib/python3.10/dist-packages/pandas/io/excel/_base.py\u001b[0m in \u001b[0;36minspect_excel_format\u001b[0;34m(content_or_path, storage_options)\u001b[0m\n\u001b[1;32m   1369\u001b[0m         \u001b[0mcontent_or_path\u001b[0m \u001b[0;34m=\u001b[0m \u001b[0mBytesIO\u001b[0m\u001b[0;34m(\u001b[0m\u001b[0mcontent_or_path\u001b[0m\u001b[0;34m)\u001b[0m\u001b[0;34m\u001b[0m\u001b[0;34m\u001b[0m\u001b[0m\n\u001b[1;32m   1370\u001b[0m \u001b[0;34m\u001b[0m\u001b[0m\n\u001b[0;32m-> 1371\u001b[0;31m     with get_handle(\n\u001b[0m\u001b[1;32m   1372\u001b[0m         \u001b[0mcontent_or_path\u001b[0m\u001b[0;34m,\u001b[0m \u001b[0;34m\"rb\"\u001b[0m\u001b[0;34m,\u001b[0m \u001b[0mstorage_options\u001b[0m\u001b[0;34m=\u001b[0m\u001b[0mstorage_options\u001b[0m\u001b[0;34m,\u001b[0m \u001b[0mis_text\u001b[0m\u001b[0;34m=\u001b[0m\u001b[0;32mFalse\u001b[0m\u001b[0;34m\u001b[0m\u001b[0;34m\u001b[0m\u001b[0m\n\u001b[1;32m   1373\u001b[0m     ) as handle:\n",
            "\u001b[0;32m/usr/local/lib/python3.10/dist-packages/pandas/io/common.py\u001b[0m in \u001b[0;36mget_handle\u001b[0;34m(path_or_buf, mode, encoding, compression, memory_map, is_text, errors, storage_options)\u001b[0m\n\u001b[1;32m    866\u001b[0m         \u001b[0;32melse\u001b[0m\u001b[0;34m:\u001b[0m\u001b[0;34m\u001b[0m\u001b[0;34m\u001b[0m\u001b[0m\n\u001b[1;32m    867\u001b[0m             \u001b[0;31m# Binary mode\u001b[0m\u001b[0;34m\u001b[0m\u001b[0;34m\u001b[0m\u001b[0m\n\u001b[0;32m--> 868\u001b[0;31m             \u001b[0mhandle\u001b[0m \u001b[0;34m=\u001b[0m \u001b[0mopen\u001b[0m\u001b[0;34m(\u001b[0m\u001b[0mhandle\u001b[0m\u001b[0;34m,\u001b[0m \u001b[0mioargs\u001b[0m\u001b[0;34m.\u001b[0m\u001b[0mmode\u001b[0m\u001b[0;34m)\u001b[0m\u001b[0;34m\u001b[0m\u001b[0;34m\u001b[0m\u001b[0m\n\u001b[0m\u001b[1;32m    869\u001b[0m         \u001b[0mhandles\u001b[0m\u001b[0;34m.\u001b[0m\u001b[0mappend\u001b[0m\u001b[0;34m(\u001b[0m\u001b[0mhandle\u001b[0m\u001b[0;34m)\u001b[0m\u001b[0;34m\u001b[0m\u001b[0;34m\u001b[0m\u001b[0m\n\u001b[1;32m    870\u001b[0m \u001b[0;34m\u001b[0m\u001b[0m\n",
            "\u001b[0;31mFileNotFoundError\u001b[0m: [Errno 2] No such file or directory: 'C:\\\\Users\\\\ggilpat\\\\Documents\\\\Carpet Waste Calculation 12-4.xlsx'"
          ]
        }
      ]
    },
    {
      "cell_type": "code",
      "metadata": {
        "id": "SjA-KpZIbX-B",
        "outputId": "379b54b7-2fd3-4638-c4a9-77664a487c26"
      },
      "source": [
        "df = df[df['Waste_Percentage'] >0 ]\n",
        "df\n",
        "# removes rows with the null waste_percentage values, or that have no values filled in (at the bottom of the spreadsheet)"
      ],
      "execution_count": null,
      "outputs": [
        {
          "output_type": "execute_result",
          "data": {
            "text/html": [
              "<div>\n",
              "<style scoped>\n",
              "    .dataframe tbody tr th:only-of-type {\n",
              "        vertical-align: middle;\n",
              "    }\n",
              "\n",
              "    .dataframe tbody tr th {\n",
              "        vertical-align: top;\n",
              "    }\n",
              "\n",
              "    .dataframe thead th {\n",
              "        text-align: right;\n",
              "    }\n",
              "</style>\n",
              "<table border=\"1\" class=\"dataframe\">\n",
              "  <thead>\n",
              "    <tr style=\"text-align: right;\">\n",
              "      <th></th>\n",
              "      <th>Style</th>\n",
              "      <th>item_nbr</th>\n",
              "      <th>Plant</th>\n",
              "      <th>Shop_Order</th>\n",
              "      <th>Product_Code</th>\n",
              "      <th>Waste_Percentage</th>\n",
              "      <th>sumFeet</th>\n",
              "      <th>Req_Lbs</th>\n",
              "    </tr>\n",
              "  </thead>\n",
              "  <tbody>\n",
              "    <tr>\n",
              "      <th>0</th>\n",
              "      <td>M2164</td>\n",
              "      <td>M216400701</td>\n",
              "      <td>WE</td>\n",
              "      <td>M9324</td>\n",
              "      <td>12</td>\n",
              "      <td>0.013199</td>\n",
              "      <td>11184.00</td>\n",
              "      <td>23766</td>\n",
              "    </tr>\n",
              "    <tr>\n",
              "      <th>1</th>\n",
              "      <td>M2164</td>\n",
              "      <td>M216400710</td>\n",
              "      <td>WE</td>\n",
              "      <td>S3358</td>\n",
              "      <td>12</td>\n",
              "      <td>0.024601</td>\n",
              "      <td>3673.00</td>\n",
              "      <td>7806</td>\n",
              "    </tr>\n",
              "    <tr>\n",
              "      <th>2</th>\n",
              "      <td>M2164</td>\n",
              "      <td>M216400710</td>\n",
              "      <td>WE</td>\n",
              "      <td>K6945</td>\n",
              "      <td>12</td>\n",
              "      <td>0.016035</td>\n",
              "      <td>7428.50</td>\n",
              "      <td>15786</td>\n",
              "    </tr>\n",
              "    <tr>\n",
              "      <th>3</th>\n",
              "      <td>M2164</td>\n",
              "      <td>M216400711</td>\n",
              "      <td>WE</td>\n",
              "      <td>G7126</td>\n",
              "      <td>12</td>\n",
              "      <td>0.022922</td>\n",
              "      <td>4079.00</td>\n",
              "      <td>8668</td>\n",
              "    </tr>\n",
              "    <tr>\n",
              "      <th>4</th>\n",
              "      <td>M2164</td>\n",
              "      <td>M216400711</td>\n",
              "      <td>WE</td>\n",
              "      <td>G7127</td>\n",
              "      <td>12</td>\n",
              "      <td>0.015299</td>\n",
              "      <td>8139.00</td>\n",
              "      <td>17296</td>\n",
              "    </tr>\n",
              "    <tr>\n",
              "      <th>...</th>\n",
              "      <td>...</td>\n",
              "      <td>...</td>\n",
              "      <td>...</td>\n",
              "      <td>...</td>\n",
              "      <td>...</td>\n",
              "      <td>...</td>\n",
              "      <td>...</td>\n",
              "      <td>...</td>\n",
              "    </tr>\n",
              "    <tr>\n",
              "      <th>9693</th>\n",
              "      <td>MD569</td>\n",
              "      <td>MD56900515</td>\n",
              "      <td>15</td>\n",
              "      <td>P0274</td>\n",
              "      <td>2A</td>\n",
              "      <td>0.199826</td>\n",
              "      <td>1002.12</td>\n",
              "      <td>914</td>\n",
              "    </tr>\n",
              "    <tr>\n",
              "      <th>9694</th>\n",
              "      <td>MD569</td>\n",
              "      <td>MD56900702</td>\n",
              "      <td>15</td>\n",
              "      <td>P0275</td>\n",
              "      <td>2A</td>\n",
              "      <td>0.199826</td>\n",
              "      <td>1002.12</td>\n",
              "      <td>914</td>\n",
              "    </tr>\n",
              "    <tr>\n",
              "      <th>9695</th>\n",
              "      <td>MD569</td>\n",
              "      <td>MD56900705</td>\n",
              "      <td>15</td>\n",
              "      <td>P0276</td>\n",
              "      <td>2A</td>\n",
              "      <td>0.199826</td>\n",
              "      <td>1002.12</td>\n",
              "      <td>914</td>\n",
              "    </tr>\n",
              "    <tr>\n",
              "      <th>9696</th>\n",
              "      <td>MD569</td>\n",
              "      <td>MD56900712</td>\n",
              "      <td>15</td>\n",
              "      <td>P0277</td>\n",
              "      <td>2A</td>\n",
              "      <td>0.199826</td>\n",
              "      <td>1002.12</td>\n",
              "      <td>914</td>\n",
              "    </tr>\n",
              "    <tr>\n",
              "      <th>9697</th>\n",
              "      <td>MD569</td>\n",
              "      <td>MD56900715</td>\n",
              "      <td>15</td>\n",
              "      <td>P0278</td>\n",
              "      <td>2A</td>\n",
              "      <td>0.199826</td>\n",
              "      <td>1002.12</td>\n",
              "      <td>914</td>\n",
              "    </tr>\n",
              "  </tbody>\n",
              "</table>\n",
              "<p>9683 rows × 8 columns</p>\n",
              "</div>"
            ],
            "text/plain": [
              "      Style    item_nbr Plant Shop_Order Product_Code  Waste_Percentage  \\\n",
              "0     M2164  M216400701    WE      M9324           12          0.013199   \n",
              "1     M2164  M216400710    WE      S3358           12          0.024601   \n",
              "2     M2164  M216400710    WE      K6945           12          0.016035   \n",
              "3     M2164  M216400711    WE      G7126           12          0.022922   \n",
              "4     M2164  M216400711    WE      G7127           12          0.015299   \n",
              "...     ...         ...   ...        ...          ...               ...   \n",
              "9693  MD569  MD56900515    15      P0274           2A          0.199826   \n",
              "9694  MD569  MD56900702    15      P0275           2A          0.199826   \n",
              "9695  MD569  MD56900705    15      P0276           2A          0.199826   \n",
              "9696  MD569  MD56900712    15      P0277           2A          0.199826   \n",
              "9697  MD569  MD56900715    15      P0278           2A          0.199826   \n",
              "\n",
              "       sumFeet  Req_Lbs  \n",
              "0     11184.00    23766  \n",
              "1      3673.00     7806  \n",
              "2      7428.50    15786  \n",
              "3      4079.00     8668  \n",
              "4      8139.00    17296  \n",
              "...        ...      ...  \n",
              "9693   1002.12      914  \n",
              "9694   1002.12      914  \n",
              "9695   1002.12      914  \n",
              "9696   1002.12      914  \n",
              "9697   1002.12      914  \n",
              "\n",
              "[9683 rows x 8 columns]"
            ]
          },
          "metadata": {
            "tags": []
          },
          "execution_count": 4
        }
      ]
    },
    {
      "cell_type": "markdown",
      "metadata": {
        "id": "zSQGXFuibX-C"
      },
      "source": [
        "### Give an overall summary of the data:"
      ]
    },
    {
      "cell_type": "code",
      "metadata": {
        "id": "rjtTcsFJbX-D",
        "outputId": "bbb162c1-d761-488e-a5c1-6ed4d0fa08fc"
      },
      "source": [
        "df1 = df.groupby('Product_Code')['Shop_Order'].nunique()\n",
        "df1\n",
        "#Shows total number of shop orders for each product code"
      ],
      "execution_count": null,
      "outputs": [
        {
          "output_type": "execute_result",
          "data": {
            "text/plain": [
              "Product_Code\n",
              "12     281\n",
              "20    2003\n",
              "21      52\n",
              "22    6091\n",
              "24     505\n",
              "2A      49\n",
              "2B       2\n",
              "2D     643\n",
              "33      42\n",
              "56      15\n",
              "Name: Shop_Order, dtype: int64"
            ]
          },
          "metadata": {
            "tags": []
          },
          "execution_count": 5
        }
      ]
    },
    {
      "cell_type": "code",
      "metadata": {
        "id": "P7svh-mKbX-E",
        "outputId": "91375560-6140-44e6-f59d-9554dbbd9705"
      },
      "source": [
        "df2 = df.groupby('Product_Code')['Style'].nunique()\n",
        "df2\n",
        "# Total styles per product code"
      ],
      "execution_count": null,
      "outputs": [
        {
          "output_type": "execute_result",
          "data": {
            "text/plain": [
              "Product_Code\n",
              "12     11\n",
              "20    192\n",
              "21      6\n",
              "22    488\n",
              "24     80\n",
              "2A      6\n",
              "2B      1\n",
              "2D     34\n",
              "33     12\n",
              "56      1\n",
              "Name: Style, dtype: int64"
            ]
          },
          "metadata": {
            "tags": []
          },
          "execution_count": 6
        }
      ]
    },
    {
      "cell_type": "code",
      "metadata": {
        "id": "8Kv8b0rlbX-G",
        "outputId": "bdf6e610-65cf-4fec-c501-75e7c8d49bbd"
      },
      "source": [
        "prod_codes = df['Product_Code'].unique()\n",
        "prod_codes.sort()\n",
        "prod_codes"
      ],
      "execution_count": null,
      "outputs": [
        {
          "output_type": "execute_result",
          "data": {
            "text/plain": [
              "array(['12', '20', '21', '22', '24', '2A', '2B', '2D', '33', '56'],\n",
              "      dtype=object)"
            ]
          },
          "metadata": {
            "tags": []
          },
          "execution_count": 7
        }
      ]
    },
    {
      "cell_type": "code",
      "metadata": {
        "id": "-KPNT6yYbX-H",
        "outputId": "6479bc8d-d088-414f-bf3f-0298d97d8458"
      },
      "source": [
        "#Make box plots to compare the quartiles for each product group\n",
        "df.boxplot(column = 'Waste_Percentage', by = 'Product_Code')"
      ],
      "execution_count": null,
      "outputs": [
        {
          "output_type": "execute_result",
          "data": {
            "text/plain": [
              "<AxesSubplot:title={'center':'Waste_Percentage'}, xlabel='Product_Code'>"
            ]
          },
          "metadata": {
            "tags": []
          },
          "execution_count": 8
        },
        {
          "output_type": "display_data",
          "data": {
            "image/png": "[encoded data removed]",
            "text/plain": [
              "<Figure size 432x288 with 1 Axes>"
            ]
          },
          "metadata": {
            "tags": [],
            "needs_background": "light"
          }
        }
      ]
    },
    {
      "cell_type": "code",
      "metadata": {
        "id": "Vg5J-QcSbX-I",
        "outputId": "1f4730eb-c939-401d-dd16-03093b39eaab"
      },
      "source": [
        "df.boxplot(column = 'Waste_Percentage')\n",
        "df.hist(column = 'Waste_Percentage')"
      ],
      "execution_count": null,
      "outputs": [
        {
          "output_type": "execute_result",
          "data": {
            "text/plain": [
              "array([[<AxesSubplot:title={'center':'Waste_Percentage'}>]], dtype=object)"
            ]
          },
          "metadata": {
            "tags": []
          },
          "execution_count": 9
        },
        {
          "output_type": "display_data",
          "data": {
            "image/png": "[encoded data removed]",
            "text/plain": [
              "<Figure size 432x288 with 1 Axes>"
            ]
          },
          "metadata": {
            "tags": [],
            "needs_background": "light"
          }
        },
        {
          "output_type": "display_data",
          "data": {
            "image/png": "[encoded data removed]",
            "text/plain": [
              "<Figure size 432x288 with 1 Axes>"
            ]
          },
          "metadata": {
            "tags": [],
            "needs_background": "light"
          }
        }
      ]
    },
    {
      "cell_type": "markdown",
      "metadata": {
        "id": "_nKLBhjvbX-J"
      },
      "source": [
        "Note: in the above histogram, the data is obviously right skewed. In both the histogram and box plot, you can see a group of outliers that stand out (above 90% waste) because they are significantly seperated from the rest of the data points."
      ]
    },
    {
      "cell_type": "markdown",
      "metadata": {
        "id": "e8HInC9mbX-K"
      },
      "source": [
        "### Determine normality for each product group:\n",
        "\n",
        "The below code loops through each product code in the data set (the prod_codes array was defined above). It checks if that group has at least 20 data points (in order to perform a normality test). If so, it uses the stats normaltest (this required importing scipy.stats earlier). If the p-value from this test is <= 0.05, then we reject the null hypothesis that the data came from a normal distribution. It also creates a histogram for each product code, where you can visualize whether or not the data is normal.\n",
        "\n",
        "The nlist will keep track of whether the distribution is normal (\"Yes\", \"No\", or \"N/A\") for each product code.\n",
        "\n",
        "Note: stats.normaltest() is based on D’Agostino and Pearson’s test,  that combines skew and kurtosis to produce an omnibus test of normality. The skewtest portion requires at least 8 samples, and the kurtosis test requires n>=20"
      ]
    },
    {
      "cell_type": "code",
      "metadata": {
        "id": "-hKdlVf9bX-M",
        "outputId": "66a17507-dd70-4248-99fe-80ded6ef72c8"
      },
      "source": [
        "nlist2 = [] # this will record if each product code has normally distributed data or not\n",
        "for pc in prod_codes:\n",
        "    pc_data = df[df['Product_Code'] == pc ]\n",
        "    print(\"Product code \" + pc + \" has \" + str(len(pc_data)) + \" total data points.\")\n",
        "    if len(pc_data) >= 20:\n",
        "        p_val = stats.normaltest(pc_data['Waste_Percentage'])[1]\n",
        "        print(\"Normal test p-value is \" + str(p_val))\n",
        "        if p_val <= 0.05:\n",
        "            median = pc_data['Waste_Percentage'].median()\n",
        "            print(\"This waste percentage data is non-normal. The median is \" + str(median))\n",
        "            nlist2.append(\"No\")\n",
        "        else:\n",
        "            mean = pc_data['Waste_Percentage'].mean()\n",
        "            print(\"This waste percentage data is normal (enough). The mean is \" + str(mean))\n",
        "            nlist2.append(\"Yes\")\n",
        "    else:\n",
        "        print(\"Under 20 data points.\")\n",
        "        nlist2.append(\"N/A\")\n",
        "    print(\"\\n\")\n",
        "    pc_data.hist(column = 'Waste_Percentage')"
      ],
      "execution_count": null,
      "outputs": [
        {
          "output_type": "stream",
          "text": [
            "Product code 12 has 281 total data points.\n",
            "Normal test p-value is 1.9227101474466272e-103\n",
            "This waste percentage data is non-normal. The median is 0.02675196032062538\n",
            "\n",
            "\n",
            "Product code 20 has 2003 total data points.\n",
            "Normal test p-value is 0.0\n",
            "This waste percentage data is non-normal. The median is 0.04497068389320005\n",
            "\n",
            "\n",
            "Product code 21 has 52 total data points.\n",
            "Normal test p-value is 0.04439080709143276\n",
            "This waste percentage data is non-normal. The median is 0.06534482799866015\n",
            "\n",
            "\n",
            "Product code 22 has 6091 total data points.\n",
            "Normal test p-value is 0.0\n",
            "This waste percentage data is non-normal. The median is 0.06559891372026186\n",
            "\n",
            "\n",
            "Product code 24 has 505 total data points.\n",
            "Normal test p-value is 1.047280590567056e-58\n",
            "This waste percentage data is non-normal. The median is 0.04429857768644205\n",
            "\n",
            "\n",
            "Product code 2A has 49 total data points.\n",
            "Normal test p-value is 1.9502205826486267e-13\n",
            "This waste percentage data is non-normal. The median is 0.21115105395956277\n",
            "\n",
            "\n",
            "Product code 2B has 2 total data points.\n",
            "Under 20 data points.\n",
            "\n",
            "\n",
            "Product code 2D has 643 total data points.\n",
            "Normal test p-value is 8.231176679385461e-217\n",
            "This waste percentage data is non-normal. The median is 0.03171055877296006\n",
            "\n",
            "\n",
            "Product code 33 has 42 total data points.\n",
            "Normal test p-value is 4.595461689233804e-08\n",
            "This waste percentage data is non-normal. The median is 0.03479585556628177\n",
            "\n",
            "\n",
            "Product code 56 has 15 total data points.\n",
            "Under 20 data points.\n",
            "\n",
            "\n"
          ],
          "name": "stdout"
        },
        {
          "output_type": "display_data",
          "data": {
            "image/png": "[encoded data removed]",
            "text/plain": [
              "<Figure size 432x288 with 1 Axes>"
            ]
          },
          "metadata": {
            "tags": [],
            "needs_background": "light"
          }
        },
        {
          "output_type": "display_data",
          "data": {
            "image/png": "[encoded data removed]",
            "text/plain": [
              "<Figure size 432x288 with 1 Axes>"
            ]
          },
          "metadata": {
            "tags": [],
            "needs_background": "light"
          }
        },
        {
          "output_type": "display_data",
          "data": {
            "image/png": "[encoded data removed]",
            "text/plain": [
              "<Figure size 432x288 with 1 Axes>"
            ]
          },
          "metadata": {
            "tags": [],
            "needs_background": "light"
          }
        },
        {
          "output_type": "display_data",
          "data": {
            "image/png": "[encoded data removed]",
            "text/plain": [
              "<Figure size 432x288 with 1 Axes>"
            ]
          },
          "metadata": {
            "tags": [],
            "needs_background": "light"
          }
        },
        {
          "output_type": "display_data",
          "data": {
            "image/png": "[encoded data removed]",
            "text/plain": [
              "<Figure size 432x288 with 1 Axes>"
            ]
          },
          "metadata": {
            "tags": [],
            "needs_background": "light"
          }
        },
        {
          "output_type": "display_data",
          "data": {
            "image/png": "[encoded data removed]",
            "text/plain": [
              "<Figure size 432x288 with 1 Axes>"
            ]
          },
          "metadata": {
            "tags": [],
            "needs_background": "light"
          }
        },
        {
          "output_type": "display_data",
          "data": {
            "image/png": "[encoded data removed]",
            "text/plain": [
              "<Figure size 432x288 with 1 Axes>"
            ]
          },
          "metadata": {
            "tags": [],
            "needs_background": "light"
          }
        },
        {
          "output_type": "display_data",
          "data": {
            "image/png": "[encoded data removed]",
            "text/plain": [
              "<Figure size 432x288 with 1 Axes>"
            ]
          },
          "metadata": {
            "tags": [],
            "needs_background": "light"
          }
        },
        {
          "output_type": "display_data",
          "data": {
            "image/png": "[encoded data removed]",
            "text/plain": [
              "<Figure size 432x288 with 1 Axes>"
            ]
          },
          "metadata": {
            "tags": [],
            "needs_background": "light"
          }
        },
        {
          "output_type": "display_data",
          "data": {
            "image/png": "[encoded data removed]",
            "text/plain": [
              "<Figure size 432x288 with 1 Axes>"
            ]
          },
          "metadata": {
            "tags": [],
            "needs_background": "light"
          }
        }
      ]
    },
    {
      "cell_type": "code",
      "metadata": {
        "id": "Tq8dCvxPbX-N",
        "outputId": "503c1497-470c-4187-da44-5509a822443c"
      },
      "source": [
        "nlist2"
      ],
      "execution_count": null,
      "outputs": [
        {
          "output_type": "execute_result",
          "data": {
            "text/plain": [
              "['No', 'No', 'No', 'No', 'No', 'No', 'N/A', 'No', 'No', 'N/A']"
            ]
          },
          "metadata": {
            "tags": []
          },
          "execution_count": 11
        }
      ]
    },
    {
      "cell_type": "markdown",
      "metadata": {
        "id": "VHCPXUh1bX-O"
      },
      "source": [
        "### Examine the relationship between SO size (sumFeet) and waste percentage:"
      ]
    },
    {
      "cell_type": "code",
      "metadata": {
        "id": "1tbSW8s8bX-P",
        "outputId": "a68130ac-35f7-4241-bcb0-f1487e2862b8"
      },
      "source": [
        "df.plot.scatter(x='sumFeet', y='Waste_Percentage')"
      ],
      "execution_count": null,
      "outputs": [
        {
          "output_type": "execute_result",
          "data": {
            "text/plain": [
              "<AxesSubplot:xlabel='sumFeet', ylabel='Waste_Percentage'>"
            ]
          },
          "metadata": {
            "tags": []
          },
          "execution_count": 12
        },
        {
          "output_type": "display_data",
          "data": {
            "image/png": "[encoded data removed]",
            "text/plain": [
              "<Figure size 432x288 with 1 Axes>"
            ]
          },
          "metadata": {
            "tags": [],
            "needs_background": "light"
          }
        }
      ]
    },
    {
      "cell_type": "code",
      "metadata": {
        "id": "srQs4OXvbX-Q",
        "outputId": "3dddce27-d5fa-46d9-cf74-bcd4e34a6b21"
      },
      "source": [
        "# look at a much smaller range of sumFeet, where most of the data falls in the plot above\n",
        "df_view = df[df['sumFeet'] <= 500 ]\n",
        "df_view.plot.scatter(x='sumFeet', y='Waste_Percentage')"
      ],
      "execution_count": null,
      "outputs": [
        {
          "output_type": "execute_result",
          "data": {
            "text/plain": [
              "<AxesSubplot:xlabel='sumFeet', ylabel='Waste_Percentage'>"
            ]
          },
          "metadata": {
            "tags": []
          },
          "execution_count": 13
        },
        {
          "output_type": "display_data",
          "data": {
            "image/png": "[encoded data removed]",
            "text/plain": [
              "<Figure size 432x288 with 1 Axes>"
            ]
          },
          "metadata": {
            "tags": [],
            "needs_background": "light"
          }
        }
      ]
    },
    {
      "cell_type": "code",
      "metadata": {
        "id": "AAdUeYImbX-R",
        "outputId": "982098d2-5448-4ec8-ff0c-8469bc0dea9d"
      },
      "source": [
        "df_view = df[df['sumFeet'] <= 2000]\n",
        "df_view.plot.scatter(x='sumFeet', y='Waste_Percentage')"
      ],
      "execution_count": null,
      "outputs": [
        {
          "output_type": "execute_result",
          "data": {
            "text/plain": [
              "<AxesSubplot:xlabel='sumFeet', ylabel='Waste_Percentage'>"
            ]
          },
          "metadata": {
            "tags": []
          },
          "execution_count": 14
        },
        {
          "output_type": "display_data",
          "data": {
            "image/png": "[encoded data removed]",
            "text/plain": [
              "<Figure size 432x288 with 1 Axes>"
            ]
          },
          "metadata": {
            "tags": [],
            "needs_background": "light"
          }
        }
      ]
    },
    {
      "cell_type": "markdown",
      "metadata": {
        "id": "QGHYhaY_bX-S"
      },
      "source": [
        "It is very clear that the extreme waste values occur with very small shop orders [the cluster in the top left of these graphs].\n",
        "\n",
        "The below statements look at the properties of the SO's with extremely high waste. It looks like these all have very small shop orders. No shop orders in the group are above 75 ft. There is also a relatively large gap, with no waste values falling from 80% to about 95%"
      ]
    },
    {
      "cell_type": "code",
      "metadata": {
        "id": "MdlzZ677bX-T",
        "outputId": "04e5ab68-dd7e-447e-abb6-9492e11723b1"
      },
      "source": [
        "df_high_waste = df[df['Waste_Percentage'] >= .8 ]\n",
        "df_high_waste.boxplot(column = 'sumFeet')\n",
        "df_high_waste\n"
      ],
      "execution_count": null,
      "outputs": [
        {
          "output_type": "execute_result",
          "data": {
            "text/html": [
              "<div>\n",
              "<style scoped>\n",
              "    .dataframe tbody tr th:only-of-type {\n",
              "        vertical-align: middle;\n",
              "    }\n",
              "\n",
              "    .dataframe tbody tr th {\n",
              "        vertical-align: top;\n",
              "    }\n",
              "\n",
              "    .dataframe thead th {\n",
              "        text-align: right;\n",
              "    }\n",
              "</style>\n",
              "<table border=\"1\" class=\"dataframe\">\n",
              "  <thead>\n",
              "    <tr style=\"text-align: right;\">\n",
              "      <th></th>\n",
              "      <th>Style</th>\n",
              "      <th>item_nbr</th>\n",
              "      <th>Plant</th>\n",
              "      <th>Shop_Order</th>\n",
              "      <th>Product_Code</th>\n",
              "      <th>Waste_Percentage</th>\n",
              "      <th>sumFeet</th>\n",
              "      <th>Req_Lbs</th>\n",
              "    </tr>\n",
              "  </thead>\n",
              "  <tbody>\n",
              "    <tr>\n",
              "      <th>87</th>\n",
              "      <td>M0644</td>\n",
              "      <td>M064400705</td>\n",
              "      <td>WE</td>\n",
              "      <td>R0639</td>\n",
              "      <td>2D</td>\n",
              "      <td>0.957374</td>\n",
              "      <td>16.040000</td>\n",
              "      <td>44</td>\n",
              "    </tr>\n",
              "    <tr>\n",
              "      <th>197</th>\n",
              "      <td>M2693</td>\n",
              "      <td>M269300702</td>\n",
              "      <td>WE</td>\n",
              "      <td>P3249</td>\n",
              "      <td>12</td>\n",
              "      <td>0.984472</td>\n",
              "      <td>20.015000</td>\n",
              "      <td>43</td>\n",
              "    </tr>\n",
              "    <tr>\n",
              "      <th>823</th>\n",
              "      <td>M4870</td>\n",
              "      <td>M487000200</td>\n",
              "      <td>WE</td>\n",
              "      <td>H1744</td>\n",
              "      <td>20</td>\n",
              "      <td>0.955632</td>\n",
              "      <td>18.015000</td>\n",
              "      <td>37</td>\n",
              "    </tr>\n",
              "    <tr>\n",
              "      <th>1645</th>\n",
              "      <td>M6765</td>\n",
              "      <td>M676500530</td>\n",
              "      <td>T1</td>\n",
              "      <td>J5727</td>\n",
              "      <td>22</td>\n",
              "      <td>0.987470</td>\n",
              "      <td>41.072000</td>\n",
              "      <td>33</td>\n",
              "    </tr>\n",
              "    <tr>\n",
              "      <th>3649</th>\n",
              "      <td>M9060</td>\n",
              "      <td>M906000505</td>\n",
              "      <td>T1</td>\n",
              "      <td>K1501</td>\n",
              "      <td>22</td>\n",
              "      <td>0.993487</td>\n",
              "      <td>63.072000</td>\n",
              "      <td>42</td>\n",
              "    </tr>\n",
              "    <tr>\n",
              "      <th>3665</th>\n",
              "      <td>M9061</td>\n",
              "      <td>M906100111</td>\n",
              "      <td>T1</td>\n",
              "      <td>K7934</td>\n",
              "      <td>22</td>\n",
              "      <td>0.993487</td>\n",
              "      <td>63.072000</td>\n",
              "      <td>42</td>\n",
              "    </tr>\n",
              "    <tr>\n",
              "      <th>3684</th>\n",
              "      <td>M9061</td>\n",
              "      <td>M906100557</td>\n",
              "      <td>T1</td>\n",
              "      <td>N9955</td>\n",
              "      <td>22</td>\n",
              "      <td>0.996728</td>\n",
              "      <td>63.072000</td>\n",
              "      <td>42</td>\n",
              "    </tr>\n",
              "    <tr>\n",
              "      <th>3689</th>\n",
              "      <td>M9061</td>\n",
              "      <td>M906100597</td>\n",
              "      <td>T1</td>\n",
              "      <td>S4807</td>\n",
              "      <td>22</td>\n",
              "      <td>0.996728</td>\n",
              "      <td>63.072000</td>\n",
              "      <td>42</td>\n",
              "    </tr>\n",
              "    <tr>\n",
              "      <th>3731</th>\n",
              "      <td>M9070</td>\n",
              "      <td>M907000575</td>\n",
              "      <td>13</td>\n",
              "      <td>P6123</td>\n",
              "      <td>22</td>\n",
              "      <td>0.994598</td>\n",
              "      <td>36.009558</td>\n",
              "      <td>63</td>\n",
              "    </tr>\n",
              "    <tr>\n",
              "      <th>3875</th>\n",
              "      <td>M9102</td>\n",
              "      <td>M910200502</td>\n",
              "      <td>T1</td>\n",
              "      <td>R3103</td>\n",
              "      <td>22</td>\n",
              "      <td>0.970308</td>\n",
              "      <td>63.072000</td>\n",
              "      <td>47</td>\n",
              "    </tr>\n",
              "    <tr>\n",
              "      <th>3885</th>\n",
              "      <td>M9102</td>\n",
              "      <td>M910200855</td>\n",
              "      <td>T1</td>\n",
              "      <td>K1448</td>\n",
              "      <td>22</td>\n",
              "      <td>0.970308</td>\n",
              "      <td>63.072000</td>\n",
              "      <td>47</td>\n",
              "    </tr>\n",
              "    <tr>\n",
              "      <th>4332</th>\n",
              "      <td>M9188</td>\n",
              "      <td>M918800481</td>\n",
              "      <td>T1</td>\n",
              "      <td>M8395</td>\n",
              "      <td>22</td>\n",
              "      <td>0.992878</td>\n",
              "      <td>41.028800</td>\n",
              "      <td>24</td>\n",
              "    </tr>\n",
              "    <tr>\n",
              "      <th>4336</th>\n",
              "      <td>M9188</td>\n",
              "      <td>M918800496</td>\n",
              "      <td>T1</td>\n",
              "      <td>P9184</td>\n",
              "      <td>22</td>\n",
              "      <td>0.992878</td>\n",
              "      <td>41.028800</td>\n",
              "      <td>24</td>\n",
              "    </tr>\n",
              "    <tr>\n",
              "      <th>4338</th>\n",
              "      <td>M9188</td>\n",
              "      <td>M918800500</td>\n",
              "      <td>T1</td>\n",
              "      <td>S2862</td>\n",
              "      <td>22</td>\n",
              "      <td>0.992878</td>\n",
              "      <td>41.028800</td>\n",
              "      <td>24</td>\n",
              "    </tr>\n",
              "    <tr>\n",
              "      <th>4357</th>\n",
              "      <td>M9188</td>\n",
              "      <td>M918800557</td>\n",
              "      <td>T1</td>\n",
              "      <td>S5443</td>\n",
              "      <td>22</td>\n",
              "      <td>0.992878</td>\n",
              "      <td>41.028800</td>\n",
              "      <td>24</td>\n",
              "    </tr>\n",
              "    <tr>\n",
              "      <th>4364</th>\n",
              "      <td>M9188</td>\n",
              "      <td>M918800597</td>\n",
              "      <td>T1</td>\n",
              "      <td>J6741</td>\n",
              "      <td>22</td>\n",
              "      <td>0.992878</td>\n",
              "      <td>41.028800</td>\n",
              "      <td>24</td>\n",
              "    </tr>\n",
              "    <tr>\n",
              "      <th>4376</th>\n",
              "      <td>M9189</td>\n",
              "      <td>M918900481</td>\n",
              "      <td>T1</td>\n",
              "      <td>J1557</td>\n",
              "      <td>22</td>\n",
              "      <td>0.992878</td>\n",
              "      <td>41.028800</td>\n",
              "      <td>24</td>\n",
              "    </tr>\n",
              "    <tr>\n",
              "      <th>4388</th>\n",
              "      <td>M9189</td>\n",
              "      <td>M918900530</td>\n",
              "      <td>T1</td>\n",
              "      <td>G5906</td>\n",
              "      <td>22</td>\n",
              "      <td>0.992878</td>\n",
              "      <td>41.028800</td>\n",
              "      <td>24</td>\n",
              "    </tr>\n",
              "    <tr>\n",
              "      <th>5285</th>\n",
              "      <td>M9383</td>\n",
              "      <td>M938300551</td>\n",
              "      <td>T1</td>\n",
              "      <td>J5382</td>\n",
              "      <td>22</td>\n",
              "      <td>0.998542</td>\n",
              "      <td>71.072000</td>\n",
              "      <td>62</td>\n",
              "    </tr>\n",
              "    <tr>\n",
              "      <th>5300</th>\n",
              "      <td>M9384</td>\n",
              "      <td>M938400535</td>\n",
              "      <td>T1</td>\n",
              "      <td>N5494</td>\n",
              "      <td>22</td>\n",
              "      <td>0.998542</td>\n",
              "      <td>71.072000</td>\n",
              "      <td>62</td>\n",
              "    </tr>\n",
              "    <tr>\n",
              "      <th>5445</th>\n",
              "      <td>M9399</td>\n",
              "      <td>M939900557</td>\n",
              "      <td>T1</td>\n",
              "      <td>R6039</td>\n",
              "      <td>22</td>\n",
              "      <td>0.992705</td>\n",
              "      <td>41.072000</td>\n",
              "      <td>25</td>\n",
              "    </tr>\n",
              "    <tr>\n",
              "      <th>5461</th>\n",
              "      <td>M9400</td>\n",
              "      <td>M940000505</td>\n",
              "      <td>T1</td>\n",
              "      <td>H4882</td>\n",
              "      <td>22</td>\n",
              "      <td>0.992705</td>\n",
              "      <td>41.072000</td>\n",
              "      <td>25</td>\n",
              "    </tr>\n",
              "    <tr>\n",
              "      <th>5462</th>\n",
              "      <td>M9400</td>\n",
              "      <td>M940000505</td>\n",
              "      <td>13</td>\n",
              "      <td>N1668</td>\n",
              "      <td>22</td>\n",
              "      <td>0.979591</td>\n",
              "      <td>36.024000</td>\n",
              "      <td>22</td>\n",
              "    </tr>\n",
              "    <tr>\n",
              "      <th>5465</th>\n",
              "      <td>M9400</td>\n",
              "      <td>M940000530</td>\n",
              "      <td>T1</td>\n",
              "      <td>J3014</td>\n",
              "      <td>22</td>\n",
              "      <td>0.993084</td>\n",
              "      <td>41.072000</td>\n",
              "      <td>25</td>\n",
              "    </tr>\n",
              "    <tr>\n",
              "      <th>5466</th>\n",
              "      <td>M9400</td>\n",
              "      <td>M940000530</td>\n",
              "      <td>T1</td>\n",
              "      <td>L8660</td>\n",
              "      <td>22</td>\n",
              "      <td>0.993084</td>\n",
              "      <td>41.072000</td>\n",
              "      <td>25</td>\n",
              "    </tr>\n",
              "    <tr>\n",
              "      <th>5467</th>\n",
              "      <td>M9400</td>\n",
              "      <td>M940000530</td>\n",
              "      <td>T1</td>\n",
              "      <td>P8511</td>\n",
              "      <td>22</td>\n",
              "      <td>0.993084</td>\n",
              "      <td>41.072000</td>\n",
              "      <td>25</td>\n",
              "    </tr>\n",
              "    <tr>\n",
              "      <th>5477</th>\n",
              "      <td>M9400</td>\n",
              "      <td>M940000557</td>\n",
              "      <td>T1</td>\n",
              "      <td>L6782</td>\n",
              "      <td>22</td>\n",
              "      <td>0.992705</td>\n",
              "      <td>41.072000</td>\n",
              "      <td>25</td>\n",
              "    </tr>\n",
              "    <tr>\n",
              "      <th>5478</th>\n",
              "      <td>M9400</td>\n",
              "      <td>M940000557</td>\n",
              "      <td>T1</td>\n",
              "      <td>N2766</td>\n",
              "      <td>22</td>\n",
              "      <td>0.992705</td>\n",
              "      <td>41.072000</td>\n",
              "      <td>25</td>\n",
              "    </tr>\n",
              "    <tr>\n",
              "      <th>5479</th>\n",
              "      <td>M9400</td>\n",
              "      <td>M940000557</td>\n",
              "      <td>T1</td>\n",
              "      <td>P7642</td>\n",
              "      <td>22</td>\n",
              "      <td>0.992705</td>\n",
              "      <td>41.072000</td>\n",
              "      <td>25</td>\n",
              "    </tr>\n",
              "    <tr>\n",
              "      <th>5487</th>\n",
              "      <td>M9400</td>\n",
              "      <td>M940000597</td>\n",
              "      <td>13</td>\n",
              "      <td>P0899</td>\n",
              "      <td>22</td>\n",
              "      <td>0.979591</td>\n",
              "      <td>36.024000</td>\n",
              "      <td>22</td>\n",
              "    </tr>\n",
              "    <tr>\n",
              "      <th>5498</th>\n",
              "      <td>M9401</td>\n",
              "      <td>M940100505</td>\n",
              "      <td>T1</td>\n",
              "      <td>J7219</td>\n",
              "      <td>22</td>\n",
              "      <td>0.992705</td>\n",
              "      <td>41.072000</td>\n",
              "      <td>25</td>\n",
              "    </tr>\n",
              "    <tr>\n",
              "      <th>6265</th>\n",
              "      <td>M9519</td>\n",
              "      <td>M951900760</td>\n",
              "      <td>T1</td>\n",
              "      <td>K3671</td>\n",
              "      <td>22</td>\n",
              "      <td>0.991915</td>\n",
              "      <td>41.072000</td>\n",
              "      <td>34</td>\n",
              "    </tr>\n",
              "    <tr>\n",
              "      <th>6297</th>\n",
              "      <td>M9520</td>\n",
              "      <td>M952000530</td>\n",
              "      <td>T1</td>\n",
              "      <td>R8297</td>\n",
              "      <td>22</td>\n",
              "      <td>0.991915</td>\n",
              "      <td>41.072000</td>\n",
              "      <td>34</td>\n",
              "    </tr>\n",
              "    <tr>\n",
              "      <th>6305</th>\n",
              "      <td>M9520</td>\n",
              "      <td>M952000536</td>\n",
              "      <td>T1</td>\n",
              "      <td>J8277</td>\n",
              "      <td>22</td>\n",
              "      <td>0.991915</td>\n",
              "      <td>41.072000</td>\n",
              "      <td>34</td>\n",
              "    </tr>\n",
              "    <tr>\n",
              "      <th>6320</th>\n",
              "      <td>M9524</td>\n",
              "      <td>M952400505</td>\n",
              "      <td>T1</td>\n",
              "      <td>L2434</td>\n",
              "      <td>22</td>\n",
              "      <td>0.997090</td>\n",
              "      <td>71.072000</td>\n",
              "      <td>62</td>\n",
              "    </tr>\n",
              "    <tr>\n",
              "      <th>6328</th>\n",
              "      <td>M9524</td>\n",
              "      <td>M952400535</td>\n",
              "      <td>T1</td>\n",
              "      <td>H2495</td>\n",
              "      <td>22</td>\n",
              "      <td>0.997090</td>\n",
              "      <td>71.072000</td>\n",
              "      <td>62</td>\n",
              "    </tr>\n",
              "    <tr>\n",
              "      <th>6356</th>\n",
              "      <td>M9525</td>\n",
              "      <td>M952500535</td>\n",
              "      <td>T1</td>\n",
              "      <td>R4034</td>\n",
              "      <td>22</td>\n",
              "      <td>0.997077</td>\n",
              "      <td>71.072000</td>\n",
              "      <td>62</td>\n",
              "    </tr>\n",
              "    <tr>\n",
              "      <th>6362</th>\n",
              "      <td>M9525</td>\n",
              "      <td>M952500555</td>\n",
              "      <td>T1</td>\n",
              "      <td>P4968</td>\n",
              "      <td>22</td>\n",
              "      <td>0.997077</td>\n",
              "      <td>71.072000</td>\n",
              "      <td>62</td>\n",
              "    </tr>\n",
              "    <tr>\n",
              "      <th>6458</th>\n",
              "      <td>M9538</td>\n",
              "      <td>M953800450</td>\n",
              "      <td>T1</td>\n",
              "      <td>L4392</td>\n",
              "      <td>22</td>\n",
              "      <td>0.998142</td>\n",
              "      <td>63.072000</td>\n",
              "      <td>47</td>\n",
              "    </tr>\n",
              "    <tr>\n",
              "      <th>6466</th>\n",
              "      <td>M9538</td>\n",
              "      <td>M953800525</td>\n",
              "      <td>T1</td>\n",
              "      <td>S2188</td>\n",
              "      <td>22</td>\n",
              "      <td>0.998142</td>\n",
              "      <td>63.072000</td>\n",
              "      <td>47</td>\n",
              "    </tr>\n",
              "    <tr>\n",
              "      <th>6472</th>\n",
              "      <td>M9538</td>\n",
              "      <td>M953800550</td>\n",
              "      <td>T1</td>\n",
              "      <td>P7658</td>\n",
              "      <td>22</td>\n",
              "      <td>0.998142</td>\n",
              "      <td>63.072000</td>\n",
              "      <td>47</td>\n",
              "    </tr>\n",
              "    <tr>\n",
              "      <th>6503</th>\n",
              "      <td>M9539</td>\n",
              "      <td>M953900550</td>\n",
              "      <td>T1</td>\n",
              "      <td>S4537</td>\n",
              "      <td>22</td>\n",
              "      <td>0.998142</td>\n",
              "      <td>63.072000</td>\n",
              "      <td>47</td>\n",
              "    </tr>\n",
              "    <tr>\n",
              "      <th>6509</th>\n",
              "      <td>M9539</td>\n",
              "      <td>M953900570</td>\n",
              "      <td>T1</td>\n",
              "      <td>J6309</td>\n",
              "      <td>22</td>\n",
              "      <td>0.998142</td>\n",
              "      <td>63.072000</td>\n",
              "      <td>47</td>\n",
              "    </tr>\n",
              "    <tr>\n",
              "      <th>6510</th>\n",
              "      <td>M9539</td>\n",
              "      <td>M953900570</td>\n",
              "      <td>T1</td>\n",
              "      <td>P7652</td>\n",
              "      <td>22</td>\n",
              "      <td>0.998142</td>\n",
              "      <td>63.072000</td>\n",
              "      <td>47</td>\n",
              "    </tr>\n",
              "    <tr>\n",
              "      <th>6519</th>\n",
              "      <td>M9540</td>\n",
              "      <td>M954000500</td>\n",
              "      <td>T1</td>\n",
              "      <td>R9451</td>\n",
              "      <td>22</td>\n",
              "      <td>0.994864</td>\n",
              "      <td>63.072000</td>\n",
              "      <td>47</td>\n",
              "    </tr>\n",
              "    <tr>\n",
              "      <th>6529</th>\n",
              "      <td>M9540</td>\n",
              "      <td>M954000550</td>\n",
              "      <td>T1</td>\n",
              "      <td>L0001</td>\n",
              "      <td>22</td>\n",
              "      <td>0.994864</td>\n",
              "      <td>63.072000</td>\n",
              "      <td>47</td>\n",
              "    </tr>\n",
              "    <tr>\n",
              "      <th>6722</th>\n",
              "      <td>M9568</td>\n",
              "      <td>M956800535</td>\n",
              "      <td>T1</td>\n",
              "      <td>P7659</td>\n",
              "      <td>22</td>\n",
              "      <td>0.990712</td>\n",
              "      <td>41.072000</td>\n",
              "      <td>29</td>\n",
              "    </tr>\n",
              "    <tr>\n",
              "      <th>6737</th>\n",
              "      <td>M9568</td>\n",
              "      <td>M956800760</td>\n",
              "      <td>T1</td>\n",
              "      <td>L4370</td>\n",
              "      <td>22</td>\n",
              "      <td>0.990712</td>\n",
              "      <td>41.072000</td>\n",
              "      <td>29</td>\n",
              "    </tr>\n",
              "    <tr>\n",
              "      <th>6754</th>\n",
              "      <td>M9569</td>\n",
              "      <td>M956900515</td>\n",
              "      <td>T1</td>\n",
              "      <td>P7661</td>\n",
              "      <td>22</td>\n",
              "      <td>0.994385</td>\n",
              "      <td>41.096000</td>\n",
              "      <td>29</td>\n",
              "    </tr>\n",
              "    <tr>\n",
              "      <th>6806</th>\n",
              "      <td>M9570</td>\n",
              "      <td>M957000557</td>\n",
              "      <td>T1</td>\n",
              "      <td>N7374</td>\n",
              "      <td>22</td>\n",
              "      <td>0.994385</td>\n",
              "      <td>41.096000</td>\n",
              "      <td>29</td>\n",
              "    </tr>\n",
              "    <tr>\n",
              "      <th>6826</th>\n",
              "      <td>M9571</td>\n",
              "      <td>M957100500</td>\n",
              "      <td>T1</td>\n",
              "      <td>S2186</td>\n",
              "      <td>22</td>\n",
              "      <td>0.990712</td>\n",
              "      <td>41.072000</td>\n",
              "      <td>29</td>\n",
              "    </tr>\n",
              "    <tr>\n",
              "      <th>6842</th>\n",
              "      <td>M9571</td>\n",
              "      <td>M957100535</td>\n",
              "      <td>T1</td>\n",
              "      <td>P7663</td>\n",
              "      <td>22</td>\n",
              "      <td>0.994385</td>\n",
              "      <td>41.072000</td>\n",
              "      <td>29</td>\n",
              "    </tr>\n",
              "    <tr>\n",
              "      <th>7144</th>\n",
              "      <td>M9601</td>\n",
              "      <td>M960100515</td>\n",
              "      <td>T1</td>\n",
              "      <td>K3891</td>\n",
              "      <td>22</td>\n",
              "      <td>0.992516</td>\n",
              "      <td>41.072000</td>\n",
              "      <td>31</td>\n",
              "    </tr>\n",
              "    <tr>\n",
              "      <th>7179</th>\n",
              "      <td>M9602</td>\n",
              "      <td>M960200557</td>\n",
              "      <td>T1</td>\n",
              "      <td>K5311</td>\n",
              "      <td>22</td>\n",
              "      <td>0.992516</td>\n",
              "      <td>41.072000</td>\n",
              "      <td>31</td>\n",
              "    </tr>\n",
              "    <tr>\n",
              "      <th>9140</th>\n",
              "      <td>MB911</td>\n",
              "      <td>MB91100461</td>\n",
              "      <td>WE</td>\n",
              "      <td>P4517</td>\n",
              "      <td>2D</td>\n",
              "      <td>0.976739</td>\n",
              "      <td>18.015000</td>\n",
              "      <td>31</td>\n",
              "    </tr>\n",
              "    <tr>\n",
              "      <th>9331</th>\n",
              "      <td>MC022</td>\n",
              "      <td>MC02200400</td>\n",
              "      <td>T1</td>\n",
              "      <td>S5264</td>\n",
              "      <td>22</td>\n",
              "      <td>0.992712</td>\n",
              "      <td>41.072000</td>\n",
              "      <td>29</td>\n",
              "    </tr>\n",
              "    <tr>\n",
              "      <th>9356</th>\n",
              "      <td>MC023</td>\n",
              "      <td>MC02300300</td>\n",
              "      <td>T1</td>\n",
              "      <td>L6910</td>\n",
              "      <td>22</td>\n",
              "      <td>0.992712</td>\n",
              "      <td>41.072000</td>\n",
              "      <td>29</td>\n",
              "    </tr>\n",
              "  </tbody>\n",
              "</table>\n",
              "</div>"
            ],
            "text/plain": [
              "      Style    item_nbr Plant Shop_Order Product_Code  Waste_Percentage  \\\n",
              "87    M0644  M064400705    WE      R0639           2D          0.957374   \n",
              "197   M2693  M269300702    WE      P3249           12          0.984472   \n",
              "823   M4870  M487000200    WE      H1744           20          0.955632   \n",
              "1645  M6765  M676500530    T1      J5727           22          0.987470   \n",
              "3649  M9060  M906000505    T1      K1501           22          0.993487   \n",
              "3665  M9061  M906100111    T1      K7934           22          0.993487   \n",
              "3684  M9061  M906100557    T1      N9955           22          0.996728   \n",
              "3689  M9061  M906100597    T1      S4807           22          0.996728   \n",
              "3731  M9070  M907000575    13      P6123           22          0.994598   \n",
              "3875  M9102  M910200502    T1      R3103           22          0.970308   \n",
              "3885  M9102  M910200855    T1      K1448           22          0.970308   \n",
              "4332  M9188  M918800481    T1      M8395           22          0.992878   \n",
              "4336  M9188  M918800496    T1      P9184           22          0.992878   \n",
              "4338  M9188  M918800500    T1      S2862           22          0.992878   \n",
              "4357  M9188  M918800557    T1      S5443           22          0.992878   \n",
              "4364  M9188  M918800597    T1      J6741           22          0.992878   \n",
              "4376  M9189  M918900481    T1      J1557           22          0.992878   \n",
              "4388  M9189  M918900530    T1      G5906           22          0.992878   \n",
              "5285  M9383  M938300551    T1      J5382           22          0.998542   \n",
              "5300  M9384  M938400535    T1      N5494           22          0.998542   \n",
              "5445  M9399  M939900557    T1      R6039           22          0.992705   \n",
              "5461  M9400  M940000505    T1      H4882           22          0.992705   \n",
              "5462  M9400  M940000505    13      N1668           22          0.979591   \n",
              "5465  M9400  M940000530    T1      J3014           22          0.993084   \n",
              "5466  M9400  M940000530    T1      L8660           22          0.993084   \n",
              "5467  M9400  M940000530    T1      P8511           22          0.993084   \n",
              "5477  M9400  M940000557    T1      L6782           22          0.992705   \n",
              "5478  M9400  M940000557    T1      N2766           22          0.992705   \n",
              "5479  M9400  M940000557    T1      P7642           22          0.992705   \n",
              "5487  M9400  M940000597    13      P0899           22          0.979591   \n",
              "5498  M9401  M940100505    T1      J7219           22          0.992705   \n",
              "6265  M9519  M951900760    T1      K3671           22          0.991915   \n",
              "6297  M9520  M952000530    T1      R8297           22          0.991915   \n",
              "6305  M9520  M952000536    T1      J8277           22          0.991915   \n",
              "6320  M9524  M952400505    T1      L2434           22          0.997090   \n",
              "6328  M9524  M952400535    T1      H2495           22          0.997090   \n",
              "6356  M9525  M952500535    T1      R4034           22          0.997077   \n",
              "6362  M9525  M952500555    T1      P4968           22          0.997077   \n",
              "6458  M9538  M953800450    T1      L4392           22          0.998142   \n",
              "6466  M9538  M953800525    T1      S2188           22          0.998142   \n",
              "6472  M9538  M953800550    T1      P7658           22          0.998142   \n",
              "6503  M9539  M953900550    T1      S4537           22          0.998142   \n",
              "6509  M9539  M953900570    T1      J6309           22          0.998142   \n",
              "6510  M9539  M953900570    T1      P7652           22          0.998142   \n",
              "6519  M9540  M954000500    T1      R9451           22          0.994864   \n",
              "6529  M9540  M954000550    T1      L0001           22          0.994864   \n",
              "6722  M9568  M956800535    T1      P7659           22          0.990712   \n",
              "6737  M9568  M956800760    T1      L4370           22          0.990712   \n",
              "6754  M9569  M956900515    T1      P7661           22          0.994385   \n",
              "6806  M9570  M957000557    T1      N7374           22          0.994385   \n",
              "6826  M9571  M957100500    T1      S2186           22          0.990712   \n",
              "6842  M9571  M957100535    T1      P7663           22          0.994385   \n",
              "7144  M9601  M960100515    T1      K3891           22          0.992516   \n",
              "7179  M9602  M960200557    T1      K5311           22          0.992516   \n",
              "9140  MB911  MB91100461    WE      P4517           2D          0.976739   \n",
              "9331  MC022  MC02200400    T1      S5264           22          0.992712   \n",
              "9356  MC023  MC02300300    T1      L6910           22          0.992712   \n",
              "\n",
              "        sumFeet  Req_Lbs  \n",
              "87    16.040000       44  \n",
              "197   20.015000       43  \n",
              "823   18.015000       37  \n",
              "1645  41.072000       33  \n",
              "3649  63.072000       42  \n",
              "3665  63.072000       42  \n",
              "3684  63.072000       42  \n",
              "3689  63.072000       42  \n",
              "3731  36.009558       63  \n",
              "3875  63.072000       47  \n",
              "3885  63.072000       47  \n",
              "4332  41.028800       24  \n",
              "4336  41.028800       24  \n",
              "4338  41.028800       24  \n",
              "4357  41.028800       24  \n",
              "4364  41.028800       24  \n",
              "4376  41.028800       24  \n",
              "4388  41.028800       24  \n",
              "5285  71.072000       62  \n",
              "5300  71.072000       62  \n",
              "5445  41.072000       25  \n",
              "5461  41.072000       25  \n",
              "5462  36.024000       22  \n",
              "5465  41.072000       25  \n",
              "5466  41.072000       25  \n",
              "5467  41.072000       25  \n",
              "5477  41.072000       25  \n",
              "5478  41.072000       25  \n",
              "5479  41.072000       25  \n",
              "5487  36.024000       22  \n",
              "5498  41.072000       25  \n",
              "6265  41.072000       34  \n",
              "6297  41.072000       34  \n",
              "6305  41.072000       34  \n",
              "6320  71.072000       62  \n",
              "6328  71.072000       62  \n",
              "6356  71.072000       62  \n",
              "6362  71.072000       62  \n",
              "6458  63.072000       47  \n",
              "6466  63.072000       47  \n",
              "6472  63.072000       47  \n",
              "6503  63.072000       47  \n",
              "6509  63.072000       47  \n",
              "6510  63.072000       47  \n",
              "6519  63.072000       47  \n",
              "6529  63.072000       47  \n",
              "6722  41.072000       29  \n",
              "6737  41.072000       29  \n",
              "6754  41.096000       29  \n",
              "6806  41.096000       29  \n",
              "6826  41.072000       29  \n",
              "6842  41.072000       29  \n",
              "7144  41.072000       31  \n",
              "7179  41.072000       31  \n",
              "9140  18.015000       31  \n",
              "9331  41.072000       29  \n",
              "9356  41.072000       29  "
            ]
          },
          "metadata": {
            "tags": []
          },
          "execution_count": 15
        },
        {
          "output_type": "display_data",
          "data": {
            "image/png": "[encoded data removed]",
            "text/plain": [
              "<Figure size 432x288 with 1 Axes>"
            ]
          },
          "metadata": {
            "tags": [],
            "needs_background": "light"
          }
        }
      ]
    },
    {
      "cell_type": "code",
      "metadata": {
        "id": "ixObi9wrbX-U",
        "outputId": "a0764e69-09b5-40f3-c210-a17767ea7aee"
      },
      "source": [
        "# Repeating the same scatter plots, now by product cd, to see if this trend occurs accross multiple groups\n",
        "for pc in prod_codes:\n",
        "    print(\"Product code \" + pc)\n",
        "    pc_data = df[df['Product_Code'] == pc ]\n",
        "    low_feet_data = pc_data[pc_data['sumFeet'] <= 500 ]\n",
        "    low_feet_data.plot.scatter(x='sumFeet', y='Waste_Percentage')"
      ],
      "execution_count": null,
      "outputs": [
        {
          "output_type": "stream",
          "text": [
            "Product code 12\n",
            "Product code 20\n",
            "Product code 21\n",
            "Product code 22\n",
            "Product code 24\n",
            "Product code 2A\n",
            "Product code 2B\n",
            "Product code 2D\n",
            "Product code 33\n",
            "Product code 56\n"
          ],
          "name": "stdout"
        },
        {
          "output_type": "display_data",
          "data": {
            "image/png": "[encoded data removed]",
            "text/plain": [
              "<Figure size 432x288 with 1 Axes>"
            ]
          },
          "metadata": {
            "tags": [],
            "needs_background": "light"
          }
        },
        {
          "output_type": "display_data",
          "data": {
            "image/png": "[encoded data removed]",
            "text/plain": [
              "<Figure size 432x288 with 1 Axes>"
            ]
          },
          "metadata": {
            "tags": [],
            "needs_background": "light"
          }
        },
        {
          "output_type": "display_data",
          "data": {
            "image/png": "[encoded data removed]",
            "text/plain": [
              "<Figure size 432x288 with 1 Axes>"
            ]
          },
          "metadata": {
            "tags": [],
            "needs_background": "light"
          }
        },
        {
          "output_type": "display_data",
          "data": {
            "image/png": "[encoded data removed]",
            "text/plain": [
              "<Figure size 432x288 with 1 Axes>"
            ]
          },
          "metadata": {
            "tags": [],
            "needs_background": "light"
          }
        },
        {
          "output_type": "display_data",
          "data": {
            "image/png": "[encoded data removed]",
            "text/plain": [
              "<Figure size 432x288 with 1 Axes>"
            ]
          },
          "metadata": {
            "tags": [],
            "needs_background": "light"
          }
        },
        {
          "output_type": "display_data",
          "data": {
            "image/png": "[encoded data removed]",
            "text/plain": [
              "<Figure size 432x288 with 1 Axes>"
            ]
          },
          "metadata": {
            "tags": [],
            "needs_background": "light"
          }
        },
        {
          "output_type": "display_data",
          "data": {
            "image/png": "[encoded data removed]",
            "text/plain": [
              "<Figure size 432x288 with 1 Axes>"
            ]
          },
          "metadata": {
            "tags": [],
            "needs_background": "light"
          }
        },
        {
          "output_type": "display_data",
          "data": {
            "image/png": "[encoded data removed]",
            "text/plain": [
              "<Figure size 432x288 with 1 Axes>"
            ]
          },
          "metadata": {
            "tags": [],
            "needs_background": "light"
          }
        },
        {
          "output_type": "display_data",
          "data": {
            "image/png": "[encoded data removed]",
            "text/plain": [
              "<Figure size 432x288 with 1 Axes>"
            ]
          },
          "metadata": {
            "tags": [],
            "needs_background": "light"
          }
        },
        {
          "output_type": "display_data",
          "data": {
            "image/png": "[encoded data removed]",
            "text/plain": [
              "<Figure size 432x288 with 1 Axes>"
            ]
          },
          "metadata": {
            "tags": [],
            "needs_background": "light"
          }
        }
      ]
    },
    {
      "cell_type": "markdown",
      "metadata": {
        "id": "U0stfP4pbX-V"
      },
      "source": [
        "### Examine: how much data would be excluded if outliers were removed from the data set?"
      ]
    },
    {
      "cell_type": "code",
      "metadata": {
        "id": "-onK8iCMbX-W",
        "outputId": "7a1d5e6e-1fcf-450c-bdb8-785442afd6aa"
      },
      "source": [
        "# What if we directly excluded all outliers, using the 1.5 * IQR rule ?\n",
        "\n",
        "Q1 = df['Waste_Percentage'].quantile(0.25)\n",
        "Q2 = df['Waste_Percentage'].quantile(0.50)\n",
        "Q3 = df['Waste_Percentage'].quantile(0.75)\n",
        "IQR = Q3 - Q1\n",
        "#print(Q1, Q3, IQR)\n",
        "upper_bound = Q3 + 1.5 * IQR\n",
        "lower_bound = Q1 - 1.5 * IQR\n",
        "print(\"Waste percent lower bound: \" + str(lower_bound * 100) + \" %, waste percent upper bound: \" + str(upper_bound*100) + \" %\")\n",
        "\n",
        "df5 = df[ (df['Waste_Percentage'] <= upper_bound) & (df['Waste_Percentage'] >= lower_bound) ]\n",
        "len1 = len(df['Waste_Percentage'])\n",
        "len2 = len(df5['Waste_Percentage'])\n",
        "perc_removed = (len1 - len2)/len1*100\n",
        "print(str(perc_removed) + \" % of the data would be removed by excluding outliers based on waste percentage\")"
      ],
      "execution_count": null,
      "outputs": [
        {
          "output_type": "stream",
          "text": [
            "Waste percent lower bound: -10.559182706918548 %, waste percent upper bound: 24.916897096300502 %\n",
            "6.485593307859134 % of the data would be removed by excluding outliers based on waste percentage\n"
          ],
          "name": "stdout"
        }
      ]
    },
    {
      "cell_type": "markdown",
      "metadata": {
        "id": "j8UjsbdAbX-X"
      },
      "source": [
        "Excluding over 6% of the data set is not a small amount, and there is not legitimate reason to exclude these shop order data points. Based on our knowledge so far, these data points above the upper bound for outliers (24.9% waste) are not erronious and don't have significantly different properties from the other shop orders. Further, outliers are a normal (while unusual) part of a distribution and removal will decrease range and variablity from its original value.\n",
        "\n",
        "However it would make sense to exclude shop orders with very small sumFeet, as we know these shop orders were not run in normal conditions (manufacturing process is different because of the small order size). These orders also include the most extreme waste percentages, with waste percentage going up dramatically at low SO sizes.\n",
        "\n",
        "The below query looks at the bounds for outliers based on the sumFeet variable. Is there a meaninful lower boundary to use for sumFeet?"
      ]
    },
    {
      "cell_type": "code",
      "metadata": {
        "scrolled": false,
        "id": "hy21b4ydbX-Y",
        "outputId": "0552bc1d-5ff2-4cdc-cc90-0b7a217b759a"
      },
      "source": [
        "Q1 = df['sumFeet'].quantile(0.25)\n",
        "Q2 = df['sumFeet'].quantile(0.50)\n",
        "Q3 = df['sumFeet'].quantile(0.75)\n",
        "IQR = Q3 - Q1\n",
        "print(Q1, Q3, IQR)\n",
        "upper_bound = Q3 + 1.5 * IQR\n",
        "lower_bound = Q1 - 1.5 * IQR\n",
        "\n",
        "print(\"lower bound: \" + str(lower_bound) + \", upper bound: \" + str(upper_bound))"
      ],
      "execution_count": null,
      "outputs": [
        {
          "output_type": "stream",
          "text": [
            "660.1239669 3062.0 2401.8760331\n",
            "lower bound: -2942.69008275, upper bound: 6664.81404965\n"
          ],
          "name": "stdout"
        }
      ]
    },
    {
      "cell_type": "markdown",
      "metadata": {
        "id": "9tVIp9bnbX-Z"
      },
      "source": [
        "The lower bound is a negative value for sumFeet (which is impossible to occur), so no outliers would fall below this lower bound.\n",
        "In addition, there is no reason to exclude values above this upper bound for outliers. As seen in the scatter plots, shop orders with very high sumFeet have regular levels of waste.\n",
        "\n",
        "Using the lower bound of 75ft looks like the best point to seperate the extreme outliers, based on the visual representations earlier."
      ]
    },
    {
      "cell_type": "code",
      "metadata": {
        "id": "Ip_FwUA5bX-a",
        "outputId": "0a3e98e3-34fa-47e2-dacf-358b7eca4398"
      },
      "source": [
        "dff = df[df['sumFeet'] >= 75 ]\n",
        "dff\n",
        "# exclude SO's under 75 ft"
      ],
      "execution_count": null,
      "outputs": [
        {
          "output_type": "execute_result",
          "data": {
            "text/html": [
              "<div>\n",
              "<style scoped>\n",
              "    .dataframe tbody tr th:only-of-type {\n",
              "        vertical-align: middle;\n",
              "    }\n",
              "\n",
              "    .dataframe tbody tr th {\n",
              "        vertical-align: top;\n",
              "    }\n",
              "\n",
              "    .dataframe thead th {\n",
              "        text-align: right;\n",
              "    }\n",
              "</style>\n",
              "<table border=\"1\" class=\"dataframe\">\n",
              "  <thead>\n",
              "    <tr style=\"text-align: right;\">\n",
              "      <th></th>\n",
              "      <th>Style</th>\n",
              "      <th>item_nbr</th>\n",
              "      <th>Plant</th>\n",
              "      <th>Shop_Order</th>\n",
              "      <th>Product_Code</th>\n",
              "      <th>Waste_Percentage</th>\n",
              "      <th>sumFeet</th>\n",
              "      <th>Req_Lbs</th>\n",
              "    </tr>\n",
              "  </thead>\n",
              "  <tbody>\n",
              "    <tr>\n",
              "      <th>0</th>\n",
              "      <td>M2164</td>\n",
              "      <td>M216400701</td>\n",
              "      <td>WE</td>\n",
              "      <td>M9324</td>\n",
              "      <td>12</td>\n",
              "      <td>0.013199</td>\n",
              "      <td>11184.00</td>\n",
              "      <td>23766</td>\n",
              "    </tr>\n",
              "    <tr>\n",
              "      <th>1</th>\n",
              "      <td>M2164</td>\n",
              "      <td>M216400710</td>\n",
              "      <td>WE</td>\n",
              "      <td>S3358</td>\n",
              "      <td>12</td>\n",
              "      <td>0.024601</td>\n",
              "      <td>3673.00</td>\n",
              "      <td>7806</td>\n",
              "    </tr>\n",
              "    <tr>\n",
              "      <th>2</th>\n",
              "      <td>M2164</td>\n",
              "      <td>M216400710</td>\n",
              "      <td>WE</td>\n",
              "      <td>K6945</td>\n",
              "      <td>12</td>\n",
              "      <td>0.016035</td>\n",
              "      <td>7428.50</td>\n",
              "      <td>15786</td>\n",
              "    </tr>\n",
              "    <tr>\n",
              "      <th>3</th>\n",
              "      <td>M2164</td>\n",
              "      <td>M216400711</td>\n",
              "      <td>WE</td>\n",
              "      <td>G7126</td>\n",
              "      <td>12</td>\n",
              "      <td>0.022922</td>\n",
              "      <td>4079.00</td>\n",
              "      <td>8668</td>\n",
              "    </tr>\n",
              "    <tr>\n",
              "      <th>4</th>\n",
              "      <td>M2164</td>\n",
              "      <td>M216400711</td>\n",
              "      <td>WE</td>\n",
              "      <td>G7127</td>\n",
              "      <td>12</td>\n",
              "      <td>0.015299</td>\n",
              "      <td>8139.00</td>\n",
              "      <td>17296</td>\n",
              "    </tr>\n",
              "    <tr>\n",
              "      <th>...</th>\n",
              "      <td>...</td>\n",
              "      <td>...</td>\n",
              "      <td>...</td>\n",
              "      <td>...</td>\n",
              "      <td>...</td>\n",
              "      <td>...</td>\n",
              "      <td>...</td>\n",
              "      <td>...</td>\n",
              "    </tr>\n",
              "    <tr>\n",
              "      <th>9693</th>\n",
              "      <td>MD569</td>\n",
              "      <td>MD56900515</td>\n",
              "      <td>15</td>\n",
              "      <td>P0274</td>\n",
              "      <td>2A</td>\n",
              "      <td>0.199826</td>\n",
              "      <td>1002.12</td>\n",
              "      <td>914</td>\n",
              "    </tr>\n",
              "    <tr>\n",
              "      <th>9694</th>\n",
              "      <td>MD569</td>\n",
              "      <td>MD56900702</td>\n",
              "      <td>15</td>\n",
              "      <td>P0275</td>\n",
              "      <td>2A</td>\n",
              "      <td>0.199826</td>\n",
              "      <td>1002.12</td>\n",
              "      <td>914</td>\n",
              "    </tr>\n",
              "    <tr>\n",
              "      <th>9695</th>\n",
              "      <td>MD569</td>\n",
              "      <td>MD56900705</td>\n",
              "      <td>15</td>\n",
              "      <td>P0276</td>\n",
              "      <td>2A</td>\n",
              "      <td>0.199826</td>\n",
              "      <td>1002.12</td>\n",
              "      <td>914</td>\n",
              "    </tr>\n",
              "    <tr>\n",
              "      <th>9696</th>\n",
              "      <td>MD569</td>\n",
              "      <td>MD56900712</td>\n",
              "      <td>15</td>\n",
              "      <td>P0277</td>\n",
              "      <td>2A</td>\n",
              "      <td>0.199826</td>\n",
              "      <td>1002.12</td>\n",
              "      <td>914</td>\n",
              "    </tr>\n",
              "    <tr>\n",
              "      <th>9697</th>\n",
              "      <td>MD569</td>\n",
              "      <td>MD56900715</td>\n",
              "      <td>15</td>\n",
              "      <td>P0278</td>\n",
              "      <td>2A</td>\n",
              "      <td>0.199826</td>\n",
              "      <td>1002.12</td>\n",
              "      <td>914</td>\n",
              "    </tr>\n",
              "  </tbody>\n",
              "</table>\n",
              "<p>9622 rows × 8 columns</p>\n",
              "</div>"
            ],
            "text/plain": [
              "      Style    item_nbr Plant Shop_Order Product_Code  Waste_Percentage  \\\n",
              "0     M2164  M216400701    WE      M9324           12          0.013199   \n",
              "1     M2164  M216400710    WE      S3358           12          0.024601   \n",
              "2     M2164  M216400710    WE      K6945           12          0.016035   \n",
              "3     M2164  M216400711    WE      G7126           12          0.022922   \n",
              "4     M2164  M216400711    WE      G7127           12          0.015299   \n",
              "...     ...         ...   ...        ...          ...               ...   \n",
              "9693  MD569  MD56900515    15      P0274           2A          0.199826   \n",
              "9694  MD569  MD56900702    15      P0275           2A          0.199826   \n",
              "9695  MD569  MD56900705    15      P0276           2A          0.199826   \n",
              "9696  MD569  MD56900712    15      P0277           2A          0.199826   \n",
              "9697  MD569  MD56900715    15      P0278           2A          0.199826   \n",
              "\n",
              "       sumFeet  Req_Lbs  \n",
              "0     11184.00    23766  \n",
              "1      3673.00     7806  \n",
              "2      7428.50    15786  \n",
              "3      4079.00     8668  \n",
              "4      8139.00    17296  \n",
              "...        ...      ...  \n",
              "9693   1002.12      914  \n",
              "9694   1002.12      914  \n",
              "9695   1002.12      914  \n",
              "9696   1002.12      914  \n",
              "9697   1002.12      914  \n",
              "\n",
              "[9622 rows x 8 columns]"
            ]
          },
          "metadata": {
            "tags": []
          },
          "execution_count": 19
        }
      ]
    },
    {
      "cell_type": "code",
      "metadata": {
        "id": "KOiVmlqObX-b",
        "outputId": "ef626eb0-a9ec-4f56-f3ee-339d33dc8e72"
      },
      "source": [
        "len1 = len(df['Waste_Percentage'])\n",
        "len2 = len(dff['Waste_Percentage'])\n",
        "perc_removed = (len1 - len2)/len1*100\n",
        "print(str(perc_removed) + \" % of the data was removed by excluding shop orders of under 75 ft.\")\n",
        "print(str(100-perc_removed) + \" % of the data was kept.\")"
      ],
      "execution_count": null,
      "outputs": [
        {
          "output_type": "stream",
          "text": [
            "0.6299700506041516 % of the data was removed by excluding shop orders of under 75 ft.\n",
            "99.37002994939584 % of the data was kept.\n"
          ],
          "name": "stdout"
        }
      ]
    },
    {
      "cell_type": "markdown",
      "metadata": {
        "id": "75SbcvGfbX-c"
      },
      "source": [
        "This exclusion removes a very small portion of the total shop order data."
      ]
    },
    {
      "cell_type": "markdown",
      "metadata": {
        "id": "yFR6Wc2NbX-e"
      },
      "source": [
        "# Final Analysis Based on Filtered Data Set:\n",
        "### Excludes Shop Orders below 75 ft."
      ]
    },
    {
      "cell_type": "code",
      "metadata": {
        "id": "hVLXrwNQbX-e",
        "outputId": "78db41df-9a89-4563-9726-183eec9e69bd"
      },
      "source": [
        "#Make box plots to compare the quartiles for each product group\n",
        "dff.boxplot(column = 'Waste_Percentage', by = 'Product_Code')"
      ],
      "execution_count": null,
      "outputs": [
        {
          "output_type": "execute_result",
          "data": {
            "text/plain": [
              "<AxesSubplot:title={'center':'Waste_Percentage'}, xlabel='Product_Code'>"
            ]
          },
          "metadata": {
            "tags": []
          },
          "execution_count": 21
        },
        {
          "output_type": "display_data",
          "data": {
            "image/png": "[encoded data removed]",
            "text/plain": [
              "<Figure size 432x288 with 1 Axes>"
            ]
          },
          "metadata": {
            "tags": [],
            "needs_background": "light"
          }
        }
      ]
    },
    {
      "cell_type": "code",
      "metadata": {
        "id": "nGN63tkgbX-f",
        "outputId": "0d56ec86-8945-419e-8b89-9964fb878114"
      },
      "source": [
        "dff.plot.scatter(x='sumFeet', y='Waste_Percentage')"
      ],
      "execution_count": null,
      "outputs": [
        {
          "output_type": "execute_result",
          "data": {
            "text/plain": [
              "<AxesSubplot:xlabel='sumFeet', ylabel='Waste_Percentage'>"
            ]
          },
          "metadata": {
            "tags": []
          },
          "execution_count": 22
        },
        {
          "output_type": "display_data",
          "data": {
            "image/png": "[encoded data removed]",
            "text/plain": [
              "<Figure size 432x288 with 1 Axes>"
            ]
          },
          "metadata": {
            "tags": [],
            "needs_background": "light"
          }
        }
      ]
    },
    {
      "cell_type": "code",
      "metadata": {
        "id": "699F5DDObX-g",
        "outputId": "88e54370-ec22-4699-e2eb-c2af0bee1432"
      },
      "source": [
        "dff[dff['Waste_Percentage'] >= .6 ]"
      ],
      "execution_count": null,
      "outputs": [
        {
          "output_type": "execute_result",
          "data": {
            "text/html": [
              "<div>\n",
              "<style scoped>\n",
              "    .dataframe tbody tr th:only-of-type {\n",
              "        vertical-align: middle;\n",
              "    }\n",
              "\n",
              "    .dataframe tbody tr th {\n",
              "        vertical-align: top;\n",
              "    }\n",
              "\n",
              "    .dataframe thead th {\n",
              "        text-align: right;\n",
              "    }\n",
              "</style>\n",
              "<table border=\"1\" class=\"dataframe\">\n",
              "  <thead>\n",
              "    <tr style=\"text-align: right;\">\n",
              "      <th></th>\n",
              "      <th>Style</th>\n",
              "      <th>item_nbr</th>\n",
              "      <th>Plant</th>\n",
              "      <th>Shop_Order</th>\n",
              "      <th>Product_Code</th>\n",
              "      <th>Waste_Percentage</th>\n",
              "      <th>sumFeet</th>\n",
              "      <th>Req_Lbs</th>\n",
              "    </tr>\n",
              "  </thead>\n",
              "  <tbody>\n",
              "    <tr>\n",
              "      <th>131</th>\n",
              "      <td>M2086</td>\n",
              "      <td>M208635553</td>\n",
              "      <td>WE</td>\n",
              "      <td>J6989</td>\n",
              "      <td>20</td>\n",
              "      <td>0.676218</td>\n",
              "      <td>222.000000</td>\n",
              "      <td>216</td>\n",
              "    </tr>\n",
              "    <tr>\n",
              "      <th>3932</th>\n",
              "      <td>M9113</td>\n",
              "      <td>M911300375</td>\n",
              "      <td>15</td>\n",
              "      <td>M0255</td>\n",
              "      <td>22</td>\n",
              "      <td>0.706863</td>\n",
              "      <td>138.200000</td>\n",
              "      <td>114</td>\n",
              "    </tr>\n",
              "    <tr>\n",
              "      <th>4327</th>\n",
              "      <td>M9180</td>\n",
              "      <td>M918000510</td>\n",
              "      <td>13</td>\n",
              "      <td>N2414</td>\n",
              "      <td>22</td>\n",
              "      <td>0.658351</td>\n",
              "      <td>240.783132</td>\n",
              "      <td>334</td>\n",
              "    </tr>\n",
              "    <tr>\n",
              "      <th>5280</th>\n",
              "      <td>M9382</td>\n",
              "      <td>M938200761</td>\n",
              "      <td>T1</td>\n",
              "      <td>R0510</td>\n",
              "      <td>22</td>\n",
              "      <td>0.604721</td>\n",
              "      <td>552.400000</td>\n",
              "      <td>480</td>\n",
              "    </tr>\n",
              "    <tr>\n",
              "      <th>5294</th>\n",
              "      <td>M9384</td>\n",
              "      <td>M938400111</td>\n",
              "      <td>T1</td>\n",
              "      <td>L0829</td>\n",
              "      <td>22</td>\n",
              "      <td>0.604721</td>\n",
              "      <td>552.400000</td>\n",
              "      <td>480</td>\n",
              "    </tr>\n",
              "    <tr>\n",
              "      <th>5296</th>\n",
              "      <td>M9384</td>\n",
              "      <td>M938400327</td>\n",
              "      <td>T1</td>\n",
              "      <td>H9901</td>\n",
              "      <td>22</td>\n",
              "      <td>0.632363</td>\n",
              "      <td>498.800000</td>\n",
              "      <td>433</td>\n",
              "    </tr>\n",
              "    <tr>\n",
              "      <th>6015</th>\n",
              "      <td>M9481</td>\n",
              "      <td>M948100500</td>\n",
              "      <td>WE</td>\n",
              "      <td>M7184</td>\n",
              "      <td>20</td>\n",
              "      <td>0.731295</td>\n",
              "      <td>79.950685</td>\n",
              "      <td>136</td>\n",
              "    </tr>\n",
              "    <tr>\n",
              "      <th>6513</th>\n",
              "      <td>M9539</td>\n",
              "      <td>M953900700</td>\n",
              "      <td>T1</td>\n",
              "      <td>T6414</td>\n",
              "      <td>22</td>\n",
              "      <td>0.749519</td>\n",
              "      <td>254.960000</td>\n",
              "      <td>189</td>\n",
              "    </tr>\n",
              "    <tr>\n",
              "      <th>6967</th>\n",
              "      <td>M9584</td>\n",
              "      <td>M958400430</td>\n",
              "      <td>15</td>\n",
              "      <td>R7012</td>\n",
              "      <td>22</td>\n",
              "      <td>0.609996</td>\n",
              "      <td>473.240000</td>\n",
              "      <td>226</td>\n",
              "    </tr>\n",
              "    <tr>\n",
              "      <th>6972</th>\n",
              "      <td>M9584</td>\n",
              "      <td>M958400950</td>\n",
              "      <td>15</td>\n",
              "      <td>J2143</td>\n",
              "      <td>22</td>\n",
              "      <td>0.609996</td>\n",
              "      <td>473.240000</td>\n",
              "      <td>226</td>\n",
              "    </tr>\n",
              "    <tr>\n",
              "      <th>6981</th>\n",
              "      <td>M9586</td>\n",
              "      <td>M958600300</td>\n",
              "      <td>15</td>\n",
              "      <td>L1812</td>\n",
              "      <td>22</td>\n",
              "      <td>0.757239</td>\n",
              "      <td>473.240000</td>\n",
              "      <td>226</td>\n",
              "    </tr>\n",
              "    <tr>\n",
              "      <th>6982</th>\n",
              "      <td>M9586</td>\n",
              "      <td>M958600300</td>\n",
              "      <td>T1</td>\n",
              "      <td>K4524</td>\n",
              "      <td>22</td>\n",
              "      <td>0.609981</td>\n",
              "      <td>934.680000</td>\n",
              "      <td>447</td>\n",
              "    </tr>\n",
              "    <tr>\n",
              "      <th>6984</th>\n",
              "      <td>M9586</td>\n",
              "      <td>M958600400</td>\n",
              "      <td>15</td>\n",
              "      <td>J8135</td>\n",
              "      <td>22</td>\n",
              "      <td>0.757239</td>\n",
              "      <td>473.240000</td>\n",
              "      <td>226</td>\n",
              "    </tr>\n",
              "    <tr>\n",
              "      <th>6985</th>\n",
              "      <td>M9586</td>\n",
              "      <td>M958600400</td>\n",
              "      <td>15</td>\n",
              "      <td>R9227</td>\n",
              "      <td>22</td>\n",
              "      <td>0.757239</td>\n",
              "      <td>473.240000</td>\n",
              "      <td>226</td>\n",
              "    </tr>\n",
              "    <tr>\n",
              "      <th>6986</th>\n",
              "      <td>M9586</td>\n",
              "      <td>M958600440</td>\n",
              "      <td>15</td>\n",
              "      <td>J4827</td>\n",
              "      <td>22</td>\n",
              "      <td>0.609954</td>\n",
              "      <td>915.480000</td>\n",
              "      <td>438</td>\n",
              "    </tr>\n",
              "    <tr>\n",
              "      <th>6989</th>\n",
              "      <td>M9586</td>\n",
              "      <td>M958600500</td>\n",
              "      <td>15</td>\n",
              "      <td>J3689</td>\n",
              "      <td>22</td>\n",
              "      <td>0.757239</td>\n",
              "      <td>473.240000</td>\n",
              "      <td>226</td>\n",
              "    </tr>\n",
              "    <tr>\n",
              "      <th>6990</th>\n",
              "      <td>M9586</td>\n",
              "      <td>M958600500</td>\n",
              "      <td>15</td>\n",
              "      <td>P8515</td>\n",
              "      <td>22</td>\n",
              "      <td>0.757239</td>\n",
              "      <td>473.240000</td>\n",
              "      <td>226</td>\n",
              "    </tr>\n",
              "    <tr>\n",
              "      <th>6998</th>\n",
              "      <td>M9586</td>\n",
              "      <td>M958600595</td>\n",
              "      <td>15</td>\n",
              "      <td>J2681</td>\n",
              "      <td>22</td>\n",
              "      <td>0.757239</td>\n",
              "      <td>473.240000</td>\n",
              "      <td>226</td>\n",
              "    </tr>\n",
              "    <tr>\n",
              "      <th>6999</th>\n",
              "      <td>M9586</td>\n",
              "      <td>M958600800</td>\n",
              "      <td>15</td>\n",
              "      <td>G8795</td>\n",
              "      <td>22</td>\n",
              "      <td>0.735003</td>\n",
              "      <td>528.520000</td>\n",
              "      <td>253</td>\n",
              "    </tr>\n",
              "    <tr>\n",
              "      <th>7000</th>\n",
              "      <td>M9586</td>\n",
              "      <td>M958600800</td>\n",
              "      <td>15</td>\n",
              "      <td>L6453</td>\n",
              "      <td>22</td>\n",
              "      <td>0.718967</td>\n",
              "      <td>570.532800</td>\n",
              "      <td>273</td>\n",
              "    </tr>\n",
              "    <tr>\n",
              "      <th>7217</th>\n",
              "      <td>M9608</td>\n",
              "      <td>M960800450</td>\n",
              "      <td>T1</td>\n",
              "      <td>L5851</td>\n",
              "      <td>22</td>\n",
              "      <td>0.616842</td>\n",
              "      <td>552.400000</td>\n",
              "      <td>456</td>\n",
              "    </tr>\n",
              "  </tbody>\n",
              "</table>\n",
              "</div>"
            ],
            "text/plain": [
              "      Style    item_nbr Plant Shop_Order Product_Code  Waste_Percentage  \\\n",
              "131   M2086  M208635553    WE      J6989           20          0.676218   \n",
              "3932  M9113  M911300375    15      M0255           22          0.706863   \n",
              "4327  M9180  M918000510    13      N2414           22          0.658351   \n",
              "5280  M9382  M938200761    T1      R0510           22          0.604721   \n",
              "5294  M9384  M938400111    T1      L0829           22          0.604721   \n",
              "5296  M9384  M938400327    T1      H9901           22          0.632363   \n",
              "6015  M9481  M948100500    WE      M7184           20          0.731295   \n",
              "6513  M9539  M953900700    T1      T6414           22          0.749519   \n",
              "6967  M9584  M958400430    15      R7012           22          0.609996   \n",
              "6972  M9584  M958400950    15      J2143           22          0.609996   \n",
              "6981  M9586  M958600300    15      L1812           22          0.757239   \n",
              "6982  M9586  M958600300    T1      K4524           22          0.609981   \n",
              "6984  M9586  M958600400    15      J8135           22          0.757239   \n",
              "6985  M9586  M958600400    15      R9227           22          0.757239   \n",
              "6986  M9586  M958600440    15      J4827           22          0.609954   \n",
              "6989  M9586  M958600500    15      J3689           22          0.757239   \n",
              "6990  M9586  M958600500    15      P8515           22          0.757239   \n",
              "6998  M9586  M958600595    15      J2681           22          0.757239   \n",
              "6999  M9586  M958600800    15      G8795           22          0.735003   \n",
              "7000  M9586  M958600800    15      L6453           22          0.718967   \n",
              "7217  M9608  M960800450    T1      L5851           22          0.616842   \n",
              "\n",
              "         sumFeet  Req_Lbs  \n",
              "131   222.000000      216  \n",
              "3932  138.200000      114  \n",
              "4327  240.783132      334  \n",
              "5280  552.400000      480  \n",
              "5294  552.400000      480  \n",
              "5296  498.800000      433  \n",
              "6015   79.950685      136  \n",
              "6513  254.960000      189  \n",
              "6967  473.240000      226  \n",
              "6972  473.240000      226  \n",
              "6981  473.240000      226  \n",
              "6982  934.680000      447  \n",
              "6984  473.240000      226  \n",
              "6985  473.240000      226  \n",
              "6986  915.480000      438  \n",
              "6989  473.240000      226  \n",
              "6990  473.240000      226  \n",
              "6998  473.240000      226  \n",
              "6999  528.520000      253  \n",
              "7000  570.532800      273  \n",
              "7217  552.400000      456  "
            ]
          },
          "metadata": {
            "tags": []
          },
          "execution_count": 23
        }
      ]
    },
    {
      "cell_type": "code",
      "metadata": {
        "id": "9jzELvXNbX-h",
        "outputId": "0286dfa0-bdf6-4022-feac-9b919a872553"
      },
      "source": [
        "nlist = []\n",
        "# this will record if each product code has normally distributed data or not\n",
        "# repeating this same process from before, for the filtered data set\n",
        "for pc in prod_codes:\n",
        "    pc_data = dff[dff['Product_Code'] == pc ]\n",
        "    print(\"Product code \" + pc + \" has \" + str(len(pc_data)) + \" total data points.\")\n",
        "    if len(pc_data) >= 20:\n",
        "        p_val = stats.normaltest(pc_data['Waste_Percentage'])[1]\n",
        "        print(\"Normal test p-value is \" + str(p_val))\n",
        "        if p_val <= 0.05:\n",
        "            median = pc_data['Waste_Percentage'].median()\n",
        "            print(\"This waste percentage data is non-normal. The median is \" + str(median))\n",
        "            nlist.append(\"No\")\n",
        "        else:\n",
        "            mean = pc_data['Waste_Percentage'].mean()\n",
        "            print(\"This waste percentage data is normal (enough). The mean is \" + str(mean))\n",
        "            nlist.append(\"Yes\")\n",
        "    else:\n",
        "        print(\"Under 20 data points.\")\n",
        "        nlist.append(\"N/A\")\n",
        "    print(\"\\n\")\n",
        "    pc_data.hist(column = 'Waste_Percentage')"
      ],
      "execution_count": null,
      "outputs": [
        {
          "output_type": "stream",
          "text": [
            "Product code 12 has 280 total data points.\n",
            "Normal test p-value is 1.0236684560074322e-62\n",
            "This waste percentage data is non-normal. The median is 0.026673909932360042\n",
            "\n",
            "\n",
            "Product code 20 has 2000 total data points.\n",
            "Normal test p-value is 1.2834570011638255e-304\n",
            "This waste percentage data is non-normal. The median is 0.044939910184403895\n",
            "\n",
            "\n",
            "Product code 21 has 52 total data points.\n",
            "Normal test p-value is 0.04439080709143276\n",
            "This waste percentage data is non-normal. The median is 0.06534482799866015\n",
            "\n",
            "\n",
            "Product code 22 has 6038 total data points.\n",
            "Normal test p-value is 0.0\n",
            "This waste percentage data is non-normal. The median is 0.06488199165095143\n",
            "\n",
            "\n",
            "Product code 24 has 505 total data points.\n",
            "Normal test p-value is 1.047280590567056e-58\n",
            "This waste percentage data is non-normal. The median is 0.04429857768644205\n",
            "\n",
            "\n",
            "Product code 2A has 49 total data points.\n",
            "Normal test p-value is 1.9502205826486267e-13\n",
            "This waste percentage data is non-normal. The median is 0.21115105395956277\n",
            "\n",
            "\n",
            "Product code 2B has 2 total data points.\n",
            "Under 20 data points.\n",
            "\n",
            "\n",
            "Product code 2D has 639 total data points.\n",
            "Normal test p-value is 3.1854287603436986e-84\n",
            "This waste percentage data is non-normal. The median is 0.03164855340623418\n",
            "\n",
            "\n",
            "Product code 33 has 42 total data points.\n",
            "Normal test p-value is 4.595461689233804e-08\n",
            "This waste percentage data is non-normal. The median is 0.03479585556628177\n",
            "\n",
            "\n",
            "Product code 56 has 15 total data points.\n",
            "Under 20 data points.\n",
            "\n",
            "\n"
          ],
          "name": "stdout"
        },
        {
          "output_type": "display_data",
          "data": {
            "image/png": "[encoded data removed]",
            "text/plain": [
              "<Figure size 432x288 with 1 Axes>"
            ]
          },
          "metadata": {
            "tags": [],
            "needs_background": "light"
          }
        },
        {
          "output_type": "display_data",
          "data": {
            "image/png": "[encoded data removed]",
            "text/plain": [
              "<Figure size 432x288 with 1 Axes>"
            ]
          },
          "metadata": {
            "tags": [],
            "needs_background": "light"
          }
        },
        {
          "output_type": "display_data",
          "data": {
            "image/png": "[encoded data removed]",
            "text/plain": [
              "<Figure size 432x288 with 1 Axes>"
            ]
          },
          "metadata": {
            "tags": [],
            "needs_background": "light"
          }
        },
        {
          "output_type": "display_data",
          "data": {
            "image/png": "[encoded data removed]",
            "text/plain": [
              "<Figure size 432x288 with 1 Axes>"
            ]
          },
          "metadata": {
            "tags": [],
            "needs_background": "light"
          }
        },
        {
          "output_type": "display_data",
          "data": {
            "image/png": "[encoded data removed]",
            "text/plain": [
              "<Figure size 432x288 with 1 Axes>"
            ]
          },
          "metadata": {
            "tags": [],
            "needs_background": "light"
          }
        },
        {
          "output_type": "display_data",
          "data": {
            "image/png": "[encoded data removed]",
            "text/plain": [
              "<Figure size 432x288 with 1 Axes>"
            ]
          },
          "metadata": {
            "tags": [],
            "needs_background": "light"
          }
        },
        {
          "output_type": "display_data",
          "data": {
            "image/png": "[encoded data removed]",
            "text/plain": [
              "<Figure size 432x288 with 1 Axes>"
            ]
          },
          "metadata": {
            "tags": [],
            "needs_background": "light"
          }
        },
        {
          "output_type": "display_data",
          "data": {
            "image/png": "[encoded data removed]",
            "text/plain": [
              "<Figure size 432x288 with 1 Axes>"
            ]
          },
          "metadata": {
            "tags": [],
            "needs_background": "light"
          }
        },
        {
          "output_type": "display_data",
          "data": {
            "image/png": "[encoded data removed]",
            "text/plain": [
              "<Figure size 432x288 with 1 Axes>"
            ]
          },
          "metadata": {
            "tags": [],
            "needs_background": "light"
          }
        },
        {
          "output_type": "display_data",
          "data": {
            "image/png": "[encoded data removed]",
            "text/plain": [
              "<Figure size 432x288 with 1 Axes>"
            ]
          },
          "metadata": {
            "tags": [],
            "needs_background": "light"
          }
        }
      ]
    },
    {
      "cell_type": "markdown",
      "metadata": {
        "id": "U_dBZosxbX-j"
      },
      "source": [
        "Note: in addition to p-values, the histograms further indicate that the waste data is normal and right skewed for each product group.\n",
        "Also note: histograms are much smoother for product codes with more data points, which makes sense. Should not read too much into \"bumpy\" histograms, when there are a low number of points being graphed."
      ]
    },
    {
      "cell_type": "code",
      "metadata": {
        "id": "tlvgtu79bX-k",
        "outputId": "736c35d3-4451-464c-c0e9-d3e3d110a636"
      },
      "source": [
        "summary = dff.groupby('Product_Code')['Waste_Percentage'].describe()[['count','min', '25%', '50%', '75%', 'max']]\n",
        "summary['range'] = summary['max'] - summary['min']\n",
        "summary['IQR'] = summary['75%'] - summary['25%']\n",
        "summary[\"Normally Distributed?\"] = nlist\n",
        "summary = summary.rename(columns={\"50%\":\"median\"})\n",
        "summary"
      ],
      "execution_count": null,
      "outputs": [
        {
          "output_type": "execute_result",
          "data": {
            "text/html": [
              "<div>\n",
              "<style scoped>\n",
              "    .dataframe tbody tr th:only-of-type {\n",
              "        vertical-align: middle;\n",
              "    }\n",
              "\n",
              "    .dataframe tbody tr th {\n",
              "        vertical-align: top;\n",
              "    }\n",
              "\n",
              "    .dataframe thead th {\n",
              "        text-align: right;\n",
              "    }\n",
              "</style>\n",
              "<table border=\"1\" class=\"dataframe\">\n",
              "  <thead>\n",
              "    <tr style=\"text-align: right;\">\n",
              "      <th></th>\n",
              "      <th>count</th>\n",
              "      <th>min</th>\n",
              "      <th>25%</th>\n",
              "      <th>median</th>\n",
              "      <th>75%</th>\n",
              "      <th>max</th>\n",
              "      <th>range</th>\n",
              "      <th>IQR</th>\n",
              "      <th>Normally Distributed?</th>\n",
              "    </tr>\n",
              "    <tr>\n",
              "      <th>Product_Code</th>\n",
              "      <th></th>\n",
              "      <th></th>\n",
              "      <th></th>\n",
              "      <th></th>\n",
              "      <th></th>\n",
              "      <th></th>\n",
              "      <th></th>\n",
              "      <th></th>\n",
              "      <th></th>\n",
              "    </tr>\n",
              "  </thead>\n",
              "  <tbody>\n",
              "    <tr>\n",
              "      <th>12</th>\n",
              "      <td>280.0</td>\n",
              "      <td>0.011995</td>\n",
              "      <td>0.019887</td>\n",
              "      <td>0.026674</td>\n",
              "      <td>0.046734</td>\n",
              "      <td>0.450727</td>\n",
              "      <td>0.438732</td>\n",
              "      <td>0.026847</td>\n",
              "      <td>No</td>\n",
              "    </tr>\n",
              "    <tr>\n",
              "      <th>20</th>\n",
              "      <td>2000.0</td>\n",
              "      <td>0.011976</td>\n",
              "      <td>0.026952</td>\n",
              "      <td>0.044940</td>\n",
              "      <td>0.085696</td>\n",
              "      <td>0.731295</td>\n",
              "      <td>0.719319</td>\n",
              "      <td>0.058745</td>\n",
              "      <td>No</td>\n",
              "    </tr>\n",
              "    <tr>\n",
              "      <th>21</th>\n",
              "      <td>52.0</td>\n",
              "      <td>0.022969</td>\n",
              "      <td>0.038847</td>\n",
              "      <td>0.065345</td>\n",
              "      <td>0.104782</td>\n",
              "      <td>0.189361</td>\n",
              "      <td>0.166393</td>\n",
              "      <td>0.065935</td>\n",
              "      <td>No</td>\n",
              "    </tr>\n",
              "    <tr>\n",
              "      <th>22</th>\n",
              "      <td>6038.0</td>\n",
              "      <td>0.007648</td>\n",
              "      <td>0.031238</td>\n",
              "      <td>0.064882</td>\n",
              "      <td>0.139063</td>\n",
              "      <td>0.757239</td>\n",
              "      <td>0.749590</td>\n",
              "      <td>0.107825</td>\n",
              "      <td>No</td>\n",
              "    </tr>\n",
              "    <tr>\n",
              "      <th>24</th>\n",
              "      <td>505.0</td>\n",
              "      <td>0.011484</td>\n",
              "      <td>0.022855</td>\n",
              "      <td>0.044299</td>\n",
              "      <td>0.081438</td>\n",
              "      <td>0.390292</td>\n",
              "      <td>0.378809</td>\n",
              "      <td>0.058583</td>\n",
              "      <td>No</td>\n",
              "    </tr>\n",
              "    <tr>\n",
              "      <th>2A</th>\n",
              "      <td>49.0</td>\n",
              "      <td>0.199826</td>\n",
              "      <td>0.211151</td>\n",
              "      <td>0.211151</td>\n",
              "      <td>0.218711</td>\n",
              "      <td>0.574886</td>\n",
              "      <td>0.375061</td>\n",
              "      <td>0.007560</td>\n",
              "      <td>No</td>\n",
              "    </tr>\n",
              "    <tr>\n",
              "      <th>2B</th>\n",
              "      <td>2.0</td>\n",
              "      <td>0.458471</td>\n",
              "      <td>0.458471</td>\n",
              "      <td>0.458471</td>\n",
              "      <td>0.458471</td>\n",
              "      <td>0.458471</td>\n",
              "      <td>0.000000</td>\n",
              "      <td>0.000000</td>\n",
              "      <td>N/A</td>\n",
              "    </tr>\n",
              "    <tr>\n",
              "      <th>2D</th>\n",
              "      <td>639.0</td>\n",
              "      <td>0.010907</td>\n",
              "      <td>0.023153</td>\n",
              "      <td>0.031649</td>\n",
              "      <td>0.053436</td>\n",
              "      <td>0.310221</td>\n",
              "      <td>0.299315</td>\n",
              "      <td>0.030283</td>\n",
              "      <td>No</td>\n",
              "    </tr>\n",
              "    <tr>\n",
              "      <th>33</th>\n",
              "      <td>42.0</td>\n",
              "      <td>0.012381</td>\n",
              "      <td>0.019854</td>\n",
              "      <td>0.034796</td>\n",
              "      <td>0.045868</td>\n",
              "      <td>0.248457</td>\n",
              "      <td>0.236076</td>\n",
              "      <td>0.026013</td>\n",
              "      <td>No</td>\n",
              "    </tr>\n",
              "    <tr>\n",
              "      <th>56</th>\n",
              "      <td>15.0</td>\n",
              "      <td>0.017160</td>\n",
              "      <td>0.018896</td>\n",
              "      <td>0.022079</td>\n",
              "      <td>0.025087</td>\n",
              "      <td>0.036373</td>\n",
              "      <td>0.019213</td>\n",
              "      <td>0.006191</td>\n",
              "      <td>N/A</td>\n",
              "    </tr>\n",
              "  </tbody>\n",
              "</table>\n",
              "</div>"
            ],
            "text/plain": [
              "               count       min       25%    median       75%       max  \\\n",
              "Product_Code                                                             \n",
              "12             280.0  0.011995  0.019887  0.026674  0.046734  0.450727   \n",
              "20            2000.0  0.011976  0.026952  0.044940  0.085696  0.731295   \n",
              "21              52.0  0.022969  0.038847  0.065345  0.104782  0.189361   \n",
              "22            6038.0  0.007648  0.031238  0.064882  0.139063  0.757239   \n",
              "24             505.0  0.011484  0.022855  0.044299  0.081438  0.390292   \n",
              "2A              49.0  0.199826  0.211151  0.211151  0.218711  0.574886   \n",
              "2B               2.0  0.458471  0.458471  0.458471  0.458471  0.458471   \n",
              "2D             639.0  0.010907  0.023153  0.031649  0.053436  0.310221   \n",
              "33              42.0  0.012381  0.019854  0.034796  0.045868  0.248457   \n",
              "56              15.0  0.017160  0.018896  0.022079  0.025087  0.036373   \n",
              "\n",
              "                 range       IQR Normally Distributed?  \n",
              "Product_Code                                            \n",
              "12            0.438732  0.026847                    No  \n",
              "20            0.719319  0.058745                    No  \n",
              "21            0.166393  0.065935                    No  \n",
              "22            0.749590  0.107825                    No  \n",
              "24            0.378809  0.058583                    No  \n",
              "2A            0.375061  0.007560                    No  \n",
              "2B            0.000000  0.000000                   N/A  \n",
              "2D            0.299315  0.030283                    No  \n",
              "33            0.236076  0.026013                    No  \n",
              "56            0.019213  0.006191                   N/A  "
            ]
          },
          "metadata": {
            "tags": []
          },
          "execution_count": 25
        }
      ]
    },
    {
      "cell_type": "code",
      "metadata": {
        "id": "hjoQ_Pc-bX-l"
      },
      "source": [
        "summary.to_clipboard()\n",
        "#this copies the above data frame, so that you can paste it wherever you want to"
      ],
      "execution_count": null,
      "outputs": []
    },
    {
      "cell_type": "markdown",
      "metadata": {
        "id": "DO5bupY_bX-m"
      },
      "source": [
        "## Additional Analysis for Reference:"
      ]
    },
    {
      "cell_type": "markdown",
      "metadata": {
        "id": "6WzrtDYPbX-m"
      },
      "source": [
        "### Below: give a summary of the data that was excluded from the primary data set (ie. Shop orders below 75 ft)"
      ]
    },
    {
      "cell_type": "code",
      "metadata": {
        "id": "MZNPK5SIbX-n",
        "outputId": "607fa265-275f-42d3-b5ff-f18991cb1353"
      },
      "source": [
        "df_excluded = df[df['sumFeet'] < 75 ]\n",
        "df_excluded.plot.scatter(x='sumFeet', y='Waste_Percentage')\n",
        "df_excluded.hist(column = 'Waste_Percentage')"
      ],
      "execution_count": null,
      "outputs": [
        {
          "output_type": "execute_result",
          "data": {
            "text/plain": [
              "array([[<AxesSubplot:title={'center':'Waste_Percentage'}>]], dtype=object)"
            ]
          },
          "metadata": {
            "tags": []
          },
          "execution_count": 27
        },
        {
          "output_type": "display_data",
          "data": {
            "image/png": "[encoded data removed]",
            "text/plain": [
              "<Figure size 432x288 with 1 Axes>"
            ]
          },
          "metadata": {
            "tags": [],
            "needs_background": "light"
          }
        },
        {
          "output_type": "display_data",
          "data": {
            "image/png": "[encoded data removed]",
            "text/plain": [
              "<Figure size 432x288 with 1 Axes>"
            ]
          },
          "metadata": {
            "tags": [],
            "needs_background": "light"
          }
        }
      ]
    },
    {
      "cell_type": "code",
      "metadata": {
        "id": "V6NTkx5KbX-o",
        "outputId": "0a016371-ab14-4f82-f804-f34f1937ac8d"
      },
      "source": [
        "df_excluded.boxplot(column = 'Waste_Percentage')"
      ],
      "execution_count": null,
      "outputs": [
        {
          "output_type": "execute_result",
          "data": {
            "text/plain": [
              "<AxesSubplot:>"
            ]
          },
          "metadata": {
            "tags": []
          },
          "execution_count": 28
        },
        {
          "output_type": "display_data",
          "data": {
            "image/png": "[encoded data removed]",
            "text/plain": [
              "<Figure size 432x288 with 1 Axes>"
            ]
          },
          "metadata": {
            "tags": [],
            "needs_background": "light"
          }
        }
      ]
    },
    {
      "cell_type": "code",
      "metadata": {
        "id": "qcRCIA14bX-o",
        "outputId": "8155a420-7ea8-477b-b69e-de7c2fc11ea7"
      },
      "source": [
        "p_val = stats.normaltest(df_excluded['Waste_Percentage'])[1]\n",
        "print(\"Normal test p-value is \" + str(p_val))\n",
        "if p_val <= 0.05:\n",
        "    median = df_excluded['Waste_Percentage'].median()\n",
        "    print(\"This waste percentage data is non-normal. The median is \" + str(median))\n",
        "else:\n",
        "    mean = df_excluded['Waste_Percentage'].mean()\n",
        "    print(\"This waste percentage data is normal (enough). The mean is \" + str(mean))"
      ],
      "execution_count": null,
      "outputs": [
        {
          "output_type": "stream",
          "text": [
            "Normal test p-value is 5.427930108593836e-17\n",
            "This waste percentage data is non-normal. The median is 0.9928779860960757\n"
          ],
          "name": "stdout"
        }
      ]
    },
    {
      "cell_type": "code",
      "metadata": {
        "id": "NzzgH3NkbX-p",
        "outputId": "cc18f0a3-12be-473e-b94e-edf163c1c6a5"
      },
      "source": [
        "summary_excluded = df_excluded['Waste_Percentage'].describe()[['count','min', '25%', '50%', '75%', 'max', 'mean']]\n",
        "summary_excluded['range'] = summary_excluded['max'] - summary_excluded['min']\n",
        "summary_excluded['IQR'] = summary_excluded['75%'] - summary_excluded['25%']\n",
        "summary_excluded.to_clipboard() # This automatically copies these results to your clipboard\n",
        "summary_excluded"
      ],
      "execution_count": null,
      "outputs": [
        {
          "output_type": "execute_result",
          "data": {
            "text/plain": [
              "count    61.000000\n",
              "min       0.296866\n",
              "25%       0.990712\n",
              "50%       0.992878\n",
              "75%       0.994864\n",
              "max       0.998542\n",
              "mean      0.953489\n",
              "range     0.701676\n",
              "IQR       0.004151\n",
              "Name: Waste_Percentage, dtype: float64"
            ]
          },
          "metadata": {
            "tags": []
          },
          "execution_count": 30
        }
      ]
    },
    {
      "cell_type": "markdown",
      "metadata": {
        "id": "XHXu_OGobX-q"
      },
      "source": [
        "### Below: gives a summary of ALL valid shop orders, and does not exclude shop orders below 75 ft"
      ]
    },
    {
      "cell_type": "code",
      "metadata": {
        "id": "bicbFew0bX-r",
        "outputId": "d1f96582-1fa1-4444-9f97-5c294b1934c7"
      },
      "source": [
        "summary2 = df.groupby('Product_Code')['Waste_Percentage'].describe()[['count','min', '25%', '50%', '75%', 'max']]\n",
        "summary2['range'] = summary2['max'] - summary2['min']\n",
        "summary2['IQR'] = summary2['75%'] - summary2['25%']\n",
        "summary2[\"Normally Distributed?\"] = nlist2\n",
        "summary2 = summary2.rename(columns={\"50%\":\"median\"})\n",
        "summary2"
      ],
      "execution_count": null,
      "outputs": [
        {
          "output_type": "execute_result",
          "data": {
            "text/html": [
              "<div>\n",
              "<style scoped>\n",
              "    .dataframe tbody tr th:only-of-type {\n",
              "        vertical-align: middle;\n",
              "    }\n",
              "\n",
              "    .dataframe tbody tr th {\n",
              "        vertical-align: top;\n",
              "    }\n",
              "\n",
              "    .dataframe thead th {\n",
              "        text-align: right;\n",
              "    }\n",
              "</style>\n",
              "<table border=\"1\" class=\"dataframe\">\n",
              "  <thead>\n",
              "    <tr style=\"text-align: right;\">\n",
              "      <th></th>\n",
              "      <th>count</th>\n",
              "      <th>min</th>\n",
              "      <th>25%</th>\n",
              "      <th>median</th>\n",
              "      <th>75%</th>\n",
              "      <th>max</th>\n",
              "      <th>range</th>\n",
              "      <th>IQR</th>\n",
              "      <th>Normally Distributed?</th>\n",
              "    </tr>\n",
              "    <tr>\n",
              "      <th>Product_Code</th>\n",
              "      <th></th>\n",
              "      <th></th>\n",
              "      <th></th>\n",
              "      <th></th>\n",
              "      <th></th>\n",
              "      <th></th>\n",
              "      <th></th>\n",
              "      <th></th>\n",
              "      <th></th>\n",
              "    </tr>\n",
              "  </thead>\n",
              "  <tbody>\n",
              "    <tr>\n",
              "      <th>12</th>\n",
              "      <td>281.0</td>\n",
              "      <td>0.011995</td>\n",
              "      <td>0.019887</td>\n",
              "      <td>0.026752</td>\n",
              "      <td>0.047011</td>\n",
              "      <td>0.984472</td>\n",
              "      <td>0.972477</td>\n",
              "      <td>0.027124</td>\n",
              "      <td>No</td>\n",
              "    </tr>\n",
              "    <tr>\n",
              "      <th>20</th>\n",
              "      <td>2003.0</td>\n",
              "      <td>0.011976</td>\n",
              "      <td>0.026952</td>\n",
              "      <td>0.044971</td>\n",
              "      <td>0.085745</td>\n",
              "      <td>0.955632</td>\n",
              "      <td>0.943656</td>\n",
              "      <td>0.058793</td>\n",
              "      <td>No</td>\n",
              "    </tr>\n",
              "    <tr>\n",
              "      <th>21</th>\n",
              "      <td>52.0</td>\n",
              "      <td>0.022969</td>\n",
              "      <td>0.038847</td>\n",
              "      <td>0.065345</td>\n",
              "      <td>0.104782</td>\n",
              "      <td>0.189361</td>\n",
              "      <td>0.166393</td>\n",
              "      <td>0.065935</td>\n",
              "      <td>No</td>\n",
              "    </tr>\n",
              "    <tr>\n",
              "      <th>22</th>\n",
              "      <td>6091.0</td>\n",
              "      <td>0.007648</td>\n",
              "      <td>0.031693</td>\n",
              "      <td>0.065599</td>\n",
              "      <td>0.140958</td>\n",
              "      <td>0.998542</td>\n",
              "      <td>0.990893</td>\n",
              "      <td>0.109265</td>\n",
              "      <td>No</td>\n",
              "    </tr>\n",
              "    <tr>\n",
              "      <th>24</th>\n",
              "      <td>505.0</td>\n",
              "      <td>0.011484</td>\n",
              "      <td>0.022855</td>\n",
              "      <td>0.044299</td>\n",
              "      <td>0.081438</td>\n",
              "      <td>0.390292</td>\n",
              "      <td>0.378809</td>\n",
              "      <td>0.058583</td>\n",
              "      <td>No</td>\n",
              "    </tr>\n",
              "    <tr>\n",
              "      <th>2A</th>\n",
              "      <td>49.0</td>\n",
              "      <td>0.199826</td>\n",
              "      <td>0.211151</td>\n",
              "      <td>0.211151</td>\n",
              "      <td>0.218711</td>\n",
              "      <td>0.574886</td>\n",
              "      <td>0.375061</td>\n",
              "      <td>0.007560</td>\n",
              "      <td>No</td>\n",
              "    </tr>\n",
              "    <tr>\n",
              "      <th>2B</th>\n",
              "      <td>2.0</td>\n",
              "      <td>0.458471</td>\n",
              "      <td>0.458471</td>\n",
              "      <td>0.458471</td>\n",
              "      <td>0.458471</td>\n",
              "      <td>0.458471</td>\n",
              "      <td>0.000000</td>\n",
              "      <td>0.000000</td>\n",
              "      <td>N/A</td>\n",
              "    </tr>\n",
              "    <tr>\n",
              "      <th>2D</th>\n",
              "      <td>643.0</td>\n",
              "      <td>0.010907</td>\n",
              "      <td>0.023169</td>\n",
              "      <td>0.031711</td>\n",
              "      <td>0.053619</td>\n",
              "      <td>0.976739</td>\n",
              "      <td>0.965832</td>\n",
              "      <td>0.030449</td>\n",
              "      <td>No</td>\n",
              "    </tr>\n",
              "    <tr>\n",
              "      <th>33</th>\n",
              "      <td>42.0</td>\n",
              "      <td>0.012381</td>\n",
              "      <td>0.019854</td>\n",
              "      <td>0.034796</td>\n",
              "      <td>0.045868</td>\n",
              "      <td>0.248457</td>\n",
              "      <td>0.236076</td>\n",
              "      <td>0.026013</td>\n",
              "      <td>No</td>\n",
              "    </tr>\n",
              "    <tr>\n",
              "      <th>56</th>\n",
              "      <td>15.0</td>\n",
              "      <td>0.017160</td>\n",
              "      <td>0.018896</td>\n",
              "      <td>0.022079</td>\n",
              "      <td>0.025087</td>\n",
              "      <td>0.036373</td>\n",
              "      <td>0.019213</td>\n",
              "      <td>0.006191</td>\n",
              "      <td>N/A</td>\n",
              "    </tr>\n",
              "  </tbody>\n",
              "</table>\n",
              "</div>"
            ],
            "text/plain": [
              "               count       min       25%    median       75%       max  \\\n",
              "Product_Code                                                             \n",
              "12             281.0  0.011995  0.019887  0.026752  0.047011  0.984472   \n",
              "20            2003.0  0.011976  0.026952  0.044971  0.085745  0.955632   \n",
              "21              52.0  0.022969  0.038847  0.065345  0.104782  0.189361   \n",
              "22            6091.0  0.007648  0.031693  0.065599  0.140958  0.998542   \n",
              "24             505.0  0.011484  0.022855  0.044299  0.081438  0.390292   \n",
              "2A              49.0  0.199826  0.211151  0.211151  0.218711  0.574886   \n",
              "2B               2.0  0.458471  0.458471  0.458471  0.458471  0.458471   \n",
              "2D             643.0  0.010907  0.023169  0.031711  0.053619  0.976739   \n",
              "33              42.0  0.012381  0.019854  0.034796  0.045868  0.248457   \n",
              "56              15.0  0.017160  0.018896  0.022079  0.025087  0.036373   \n",
              "\n",
              "                 range       IQR Normally Distributed?  \n",
              "Product_Code                                            \n",
              "12            0.972477  0.027124                    No  \n",
              "20            0.943656  0.058793                    No  \n",
              "21            0.166393  0.065935                    No  \n",
              "22            0.990893  0.109265                    No  \n",
              "24            0.378809  0.058583                    No  \n",
              "2A            0.375061  0.007560                    No  \n",
              "2B            0.000000  0.000000                   N/A  \n",
              "2D            0.965832  0.030449                    No  \n",
              "33            0.236076  0.026013                    No  \n",
              "56            0.019213  0.006191                   N/A  "
            ]
          },
          "metadata": {
            "tags": []
          },
          "execution_count": 31
        }
      ]
    },
    {
      "cell_type": "code",
      "metadata": {
        "id": "oT8UwXRrbX-r"
      },
      "source": [
        "summary2.to_clipboard()"
      ],
      "execution_count": null,
      "outputs": []
    },
    {
      "cell_type": "code",
      "metadata": {
        "id": "E46Pu_2bbX-s"
      },
      "source": [],
      "execution_count": null,
      "outputs": []
    }
  ]
}