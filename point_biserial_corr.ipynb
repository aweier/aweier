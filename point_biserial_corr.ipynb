{
 "cells": [
  {
   "attachments": {
    "image.png": {
     "image/png": "[encoded data removed]"
    }
   },
   "cell_type": "markdown",
   "metadata": {},
   "source": [
    "#### Point-biserial Correlation\n",
    "A speical case of the Pearson Correlation used when one variable is binary and the other is continuous. It measures the strength and direction of the relationship between these two variables.\n",
    "\n",
    "Values Range from -1 to 1\n",
    "\n",
    "1: indicates a perfect positive correlation\n",
    "\n",
    "-1: indicaes a perfect negative correlation\n",
    "\n",
    "0: indicates no correlation\n",
    "\n",
    "![image.png](attachment:image.png)\n",
    "\n",
    "image from Datatab.net\n",
    "Where: \n",
    "X1 = Mean of the continuous variable for group 1 (binary =1)\n",
    "\n",
    "X0 = Mean of the continuous variable for group 0 (binary = 0)\n",
    "\n",
    "sx = Standard deviation of the continuous variable\n",
    "\n",
    "p = Proportion of cases where the binary variable = 1\n",
    "\n",
    "n = total sample size\n",
    "\n",
    "Steps in Solving Equation:\n",
    "1. Calculate Group Means\n",
    "2. Calculate the standard deviation of the continuous\n",
    "3. Plug in Formula\n",
    "\n",
    "It is useful in psychological, medical and educational research when one variable (e.g. success/failure) is dichotomous (a divison or contrast between two things that are or are represented as being opposed or different)"
   ]
  },
  {
   "cell_type": "code",
   "execution_count": 2,
   "metadata": {},
   "outputs": [],
   "source": [
    "import numpy as np\n",
    "import pandas as pd\n",
    "from scipy.stats import pointbiserialr"
   ]
  },
  {
   "cell_type": "markdown",
   "metadata": {},
   "source": [
    "We are going to use past examples of Running training distance per week and wether a runner finished the marathon in this hypothetical situation. The binary variable will be wether they finished or not and the continous variable will be average miles trained per week."
   ]
  },
  {
   "cell_type": "markdown",
   "metadata": {},
   "source": [
    "Manual Calculation"
   ]
  },
  {
   "cell_type": "code",
   "execution_count": 3,
   "metadata": {},
   "outputs": [
    {
     "name": "stdout",
     "output_type": "stream",
     "text": [
      "0.9307343206016699\n"
     ]
    }
   ],
   "source": [
    "#Finished Y/N\n",
    "binary_var = np.array([1, 0, 1, 1, 0, 1, 0, 1, 0, 0])\n",
    "#AVG miles per week training\n",
    "continous_var = np.array([82, 69, 91, 93, 59, 82, 52, 94, 61, 63])\n",
    "#Mean1\n",
    "mean_1 = np.mean(continous_var[binary_var==1])\n",
    "#Mean0\n",
    "mean_0 = np.mean(continous_var[binary_var==0])\n",
    "#Standard Deviation, remember ddof is delta degrees of freedom (default is 0 (population sd), 1 is sample sd)\n",
    "std_x = np.std(continous_var, ddof=1)\n",
    "#N_1\n",
    "n_1 = np.sum(binary_var==1)\n",
    "#N_0\n",
    "n_0 = np.sum(binary_var==0)\n",
    "#Total sample Size\n",
    "n = len(binary_var)\n",
    "#formula\n",
    "r_pb = (mean_1 - mean_0) / std_x * np.sqrt(n_1 * n_0 / (n* (n-1)))\n",
    "print(r_pb)"
   ]
  },
  {
   "cell_type": "markdown",
   "metadata": {},
   "source": [
    "Scipy Example"
   ]
  },
  {
   "cell_type": "code",
   "execution_count": 11,
   "metadata": {},
   "outputs": [
    {
     "name": "stdout",
     "output_type": "stream",
     "text": [
      "Point-Biserial Correlation: 0.9307\n",
      "P vale: 0.0001\n"
     ]
    }
   ],
   "source": [
    "r_pb_scipy, p_value = pointbiserialr(binary_var, continous_var)\n",
    "print(\"Point-Biserial Correlation:\",round(r_pb_scipy, 4))\n",
    "print(\"P vale:\",round(p_value,4))"
   ]
  },
  {
   "cell_type": "markdown",
   "metadata": {},
   "source": [
    "Pandas Example"
   ]
  },
  {
   "cell_type": "code",
   "execution_count": 14,
   "metadata": {},
   "outputs": [
    {
     "name": "stdout",
     "output_type": "stream",
     "text": [
      "0.9535664558521104\n"
     ]
    }
   ],
   "source": [
    "race_data = {\n",
    "    'completed_race': [1, 0, 1, 1, 0, 1, 0, 1, 0, 0],\n",
    "    'miles_per_week': [85, 70, 90, 95, 60, 88, 55, 93, 58, 65]\n",
    "}\n",
    "race_df = pd.DataFrame(race_data)\n",
    "\n",
    "r_pb = race_df['completed_race'].corr(race_df['miles_per_week'])\n",
    "\n",
    "print(r_pb)"
   ]
  }
 ],
 "metadata": {
  "kernelspec": {
   "display_name": "Aleks2",
   "language": "python",
   "name": "python3"
  },
  "language_info": {
   "codemirror_mode": {
    "name": "ipython",
    "version": 3
   },
   "file_extension": ".py",
   "mimetype": "text/x-python",
   "name": "python",
   "nbconvert_exporter": "python",
   "pygments_lexer": "ipython3",
   "version": "3.10.13"
  }
 },
 "nbformat": 4,
 "nbformat_minor": 2
}
