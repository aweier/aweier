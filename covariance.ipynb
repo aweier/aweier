{
 "cells": [
  {
   "cell_type": "markdown",
   "metadata": {},
   "source": [
    "#### Covariance\n",
    "Covariance is a statistical measure that indicates the extenet to which two random variables change together. If the variable tends to increase or decrease in tandem, the covariance is postive. If one tends to increase while the other tends to decrease the covariance is negative. If there is no particular pattern, the covariance is close to zero.\n",
    "\n",
    "Sample Covariance: n -1\n",
    "\n",
    "Population Covariance: n"
   ]
  },
  {
   "cell_type": "markdown",
   "metadata": {},
   "source": []
  },
  {
   "cell_type": "code",
   "execution_count": 3,
   "metadata": {},
   "outputs": [],
   "source": [
    "import pandas as pd\n",
    "import matplotlib.pyplot as plt\n",
    "import seaborn as sns\n"
   ]
  },
  {
   "cell_type": "markdown",
   "metadata": {},
   "source": [
    "Manual Calculation example stock price"
   ]
  },
  {
   "cell_type": "code",
   "execution_count": 10,
   "metadata": {},
   "outputs": [
    {
     "name": "stdout",
     "output_type": "stream",
     "text": [
      "196.4\n"
     ]
    }
   ],
   "source": [
    "#Two Example Stocks that will increase invalue at the same rate.\n",
    "stock1 = [104, 107, 111, 116, 124, 155]\n",
    "stock2 = [203, 205, 215, 220, 226, 233]\n",
    "#They both have the same length of course\n",
    "n = len(stock1)\n",
    "#Find Mean\n",
    "mean_1 = sum(stock1) / n\n",
    "mean_2 = sum(stock2) / n\n",
    "\n",
    "diff_product_sum = 0\n",
    "for i in range(n):\n",
    "    diff_1 = stock1[i] - mean_1\n",
    "    diff_2 = stock2[i] - mean_2\n",
    "    diff_product_sum += diff_1 * diff_2\n",
    "covar_man = diff_product_sum / (n -1)\n",
    "print(covar_man)"
   ]
  },
  {
   "cell_type": "code",
   "execution_count": 14,
   "metadata": {},
   "outputs": [
    {
     "name": "stdout",
     "output_type": "stream",
     "text": [
      "        stock1  stock2\n",
      "stock1   352.3   196.4\n",
      "stock2   196.4   138.0\n"
     ]
    }
   ],
   "source": [
    "#Pandas Example\n",
    "stock_data = {\n",
    "\"stock1\" : [104, 107, 111, 116, 124, 155],\n",
    "\"stock2\" : [203, 205, 215, 220, 226, 233]\n",
    "}\n",
    "df = pd.DataFrame(stock_data)\n",
    "\n",
    "cov_matrix = df.cov()\n",
    "\n",
    "print(cov_matrix)"
   ]
  },
  {
   "cell_type": "code",
   "execution_count": 4,
   "metadata": {},
   "outputs": [
    {
     "name": "stdout",
     "output_type": "stream",
     "text": [
      "Covariance Matrix:\n",
      "[[ 2.5 12.5]\n",
      " [12.5 62.5]]\n"
     ]
    }
   ],
   "source": [
    "#Numpy Sample Covariance\n",
    "import numpy as np\n",
    "\n",
    "# Create sample data: Study hours and test scores\n",
    "study_hours = np.array([2, 3, 4, 5, 6])\n",
    "test_scores = np.array([50, 55, 60, 65, 70])\n",
    "\n",
    "# Stack the data vertically for covariance calculation\n",
    "data = np.vstack((study_hours, test_scores))\n",
    "\n",
    "# Calculate the covariance matrix\n",
    "cov_matrix = np.cov(data, bias=False)\n",
    "\n",
    "print(\"Covariance Matrix:\")\n",
    "print(cov_matrix)\n"
   ]
  }
 ],
 "metadata": {
  "kernelspec": {
   "display_name": "Aleks2",
   "language": "python",
   "name": "python3"
  },
  "language_info": {
   "codemirror_mode": {
    "name": "ipython",
    "version": 3
   },
   "file_extension": ".py",
   "mimetype": "text/x-python",
   "name": "python",
   "nbconvert_exporter": "python",
   "pygments_lexer": "ipython3",
   "version": "3.10.13"
  }
 },
 "nbformat": 4,
 "nbformat_minor": 2
}
